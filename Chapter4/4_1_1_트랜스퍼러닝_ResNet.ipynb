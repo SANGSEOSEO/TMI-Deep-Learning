{
  "nbformat": 4,
  "nbformat_minor": 0,
  "metadata": {
    "colab": {
      "name": "4_1_트랜스퍼러닝_ResNet.ipynb",
      "provenance": [],
      "collapsed_sections": [],
      "toc_visible": true,
      "machine_shape": "hm"
    },
    "kernelspec": {
      "name": "python3",
      "display_name": "Python 3"
    },
    "accelerator": "GPU"
  },
  "cells": [
    {
      "cell_type": "markdown",
      "metadata": {
        "id": "OpBd_VwTg-bu",
        "colab_type": "text"
      },
      "source": [
        "# 4.1 트랜스퍼 러닝 (ResNet)\n",
        "\n",
        "- 작성자: [김찬란](https://github.com/seriousran)"
      ]
    },
    {
      "cell_type": "markdown",
      "metadata": {
        "id": "ZSQP24KGZPnQ",
        "colab_type": "text"
      },
      "source": [
        "## 4.1.2 ResNet 살펴보기"
      ]
    },
    {
      "cell_type": "code",
      "metadata": {
        "id": "PsVsqTymZEsH",
        "colab_type": "code",
        "colab": {}
      },
      "source": [
        "# 코드 4-1 케라스에 구현되어 있는 ResNet\n",
        "\n",
        "keras.applications.resnet.ResNet50(include_top=True, weights='imagenet', input_tensor=None, input_shape=None, pooling=None, classes=1000)\n",
        "keras.applications.resnet.ResNet101(include_top=True, weights='imagenet', input_tensor=None, input_shape=None, pooling=None, classes=1000)\n",
        "keras.applications.resnet.ResNet152(include_top=True, weights='imagenet', input_tensor=None, input_shape=None, pooling=None, classes=1000)\n",
        "keras.applications.resnet_v2.ResNet50V2(include_top=True, weights='imagenet', input_tensor=None, input_shape=None, pooling=None, classes=1000)\n",
        "keras.applications.resnet_v2.ResNet101V2(include_top=True, weights='imagenet', input_tensor=None, input_shape=None, pooling=None, classes=1000)\n",
        "keras.applications.resnet_v2.ResNet152V2(include_top=True, weights='imagenet', input_tensor=None, input_shape=None, pooling=None, classes=1000)"
      ],
      "execution_count": 0,
      "outputs": []
    },
    {
      "cell_type": "markdown",
      "metadata": {
        "id": "HiXgZCueZSBC",
        "colab_type": "text"
      },
      "source": [
        "## 4.1.3 인공신경망 내부 들여다보기"
      ]
    },
    {
      "cell_type": "code",
      "metadata": {
        "id": "mL_dSqUWgUIE",
        "colab_type": "code",
        "colab": {}
      },
      "source": [
        "# 코드 4-2 가중치 시각화를 위한 함수들\n",
        "\n",
        "import keras\n",
        "import keras.backend as K\n",
        "from keras.applications.resnet_v2 import ResNet50V2\n",
        "\n",
        "def normalize(x):\n",
        "    return x / (K.sqrt(K.mean(K.square(x))) + K.epsilon())\n",
        "\n",
        "\n",
        "def deprocess_image(x):\n",
        "    x -= x.mean()\n",
        "    x /= (x.std() + K.epsilon())\n",
        "    x *= 0.25\n",
        "\n",
        "    x += 0.5\n",
        "    x = np.clip(x, 0, 1)\n",
        "\n",
        "    x *= 255\n",
        "    x = np.clip(x, 0, 255).astype('uint8')\n",
        "    return x\n",
        "\n",
        "\n",
        "def process_image(x, former):\n",
        "    return (x / 255 - 0.5) * 4 * former.std() + former.mean()\n",
        "\n",
        "\n",
        "def visualize_layer(model,\n",
        "                    layer_name,\n",
        "                    step=1.,\n",
        "                    epochs=15,\n",
        "                    upscaling_steps=9,\n",
        "                    upscaling_factor=1.2,\n",
        "                    output_dim=(412, 412),\n",
        "                    filter_range=(0, None)):\n",
        "\n",
        "    def _generate_filter_image(input_img,\n",
        "                               layer_output,\n",
        "                               filter_index):\n",
        "        s_time = time.time()\n",
        "\n",
        "        loss = K.mean(layer_output[:, :, :, filter_index])\n",
        "\n",
        "        grads = K.gradients(loss, input_img)[0]\n",
        "        grads = normalize(grads)\n",
        "        iterate = K.function([input_img], [loss, grads])\n",
        "\n",
        "        intermediate_dim = tuple(\n",
        "            int(x / (upscaling_factor ** upscaling_steps)) for x in output_dim)\n",
        "        input_img_data = np.random.random(\n",
        "            (1, intermediate_dim[0], intermediate_dim[1], 3))\n",
        "        input_img_data = (input_img_data - 0.5) * 20 + 128\n",
        "\n",
        "        for up in reversed(range(upscaling_steps)):\n",
        "            for _ in range(epochs):\n",
        "                loss_value, grads_value = iterate([input_img_data])\n",
        "                input_img_data += grads_value * step\n",
        "\n",
        "                if loss_value <= K.epsilon():\n",
        "                    return None\n",
        "\n",
        "            intermediate_dim = tuple(\n",
        "                int(x / (upscaling_factor ** up)) for x in output_dim)\n",
        "            img = deprocess_image(input_img_data[0])\n",
        "            img = np.array(Image.fromarray(img).resize(intermediate_dim,\n",
        "                                                           Image.BICUBIC))\n",
        "            input_img_data = [process_image(img, input_img_data[0])]\n",
        "\n",
        "        img = deprocess_image(input_img_data[0])\n",
        "        e_time = time.time()\n",
        "        print('Costs of filter {:3}: {:5.0f} ( {:4.2f}s )'.format(filter_index,\n",
        "                                                                  loss_value,\n",
        "                                                                  e_time - s_time))\n",
        "        return img, loss_value\n",
        "\n",
        "    def _draw_filters(filters, n=None):\n",
        "        if n is None:\n",
        "            n = int(np.floor(np.sqrt(len(filters))))\n",
        "\n",
        "        filters.sort(key=lambda x: x[1], reverse=True)\n",
        "        filters = filters[:n * n]\n",
        "\n",
        "        MARGIN = 0\n",
        "        width = n * output_dim[0] + (n - 1) * MARGIN\n",
        "        height = n * output_dim[1] + (n - 1) * MARGIN\n",
        "        stitched_filters = np.zeros((width, height, 3), dtype='uint8')\n",
        "\n",
        "        for i in range(n):\n",
        "            for j in range(n):\n",
        "                img, _ = filters[i * n + j]\n",
        "                width_margin = (output_dim[0] + MARGIN) * i\n",
        "                height_margin = (output_dim[1] + MARGIN) * j\n",
        "                stitched_filters[\n",
        "                    width_margin: width_margin + output_dim[0],\n",
        "                    height_margin: height_margin + output_dim[1], :] = img\n",
        "\n",
        "        save_img('/content/drive/My Drive/0_colab/conv/resnet_{0:}_{1:}x{1:}.png'.format(layer_name, n), stitched_filters)\n",
        "    assert len(model.inputs) == 1\n",
        "    input_img = model.inputs[0]\n",
        "\n",
        "    layer_dict = dict([(layer.name, layer) for layer in model.layers[1:]])\n",
        "\n",
        "    output_layer = layer_dict[layer_name]\n",
        "    assert isinstance(output_layer, Conv2D)\n",
        "\n",
        "    filter_lower = filter_range[0]\n",
        "    filter_upper = (filter_range[1]\n",
        "                    if filter_range[1] is not None\n",
        "                    else len(output_layer.get_weights()[1]))\n",
        "\n",
        "    assert(filter_lower >= 0\n",
        "           and filter_upper <= len(output_layer.get_weights()[1])\n",
        "           and filter_upper > filter_lower)\n",
        "    print('Compute filters {:} to {:}'.format(filter_lower, filter_upper))\n",
        "\n",
        "    processed_filters = []\n",
        "    for f in range(filter_lower, filter_upper):\n",
        "        img_loss = _generate_filter_image(input_img, output_layer.output, f)\n",
        "\n",
        "        if img_loss is not None:\n",
        "            processed_filters.append(img_loss)\n",
        "\n",
        "        if len(processed_filters) == 9:\n",
        "          break\n",
        "\n",
        "    print('{} filter processed.'.format(len(processed_filters)))\n",
        "    _draw_filters(processed_filters)"
      ],
      "execution_count": 0,
      "outputs": []
    },
    {
      "cell_type": "code",
      "metadata": {
        "id": "Ep6im76PyRGA",
        "colab_type": "code",
        "outputId": "704f6c7d-2ac9-4a70-aeff-882b8160a96e",
        "colab": {
          "base_uri": "https://localhost:8080/",
          "height": 503
        }
      },
      "source": [
        "resnet_v2 = ResNet50V2(include_top=False, weights='imagenet',\n",
        "                       input_shape = (32,32,3))\n",
        "visualize_layer(resnet_v2, 'conv1_conv')"
      ],
      "execution_count": 0,
      "outputs": [
        {
          "output_type": "stream",
          "text": [
            "Compute filters 0 to 64\n",
            "Costs of filter   0:    38 ( 6.71s )\n",
            "Costs of filter   1:   168 ( 6.59s )\n",
            "Costs of filter   5:    25 ( 6.57s )\n",
            "Costs of filter   7:    18 ( 6.80s )\n",
            "Costs of filter   8:    36 ( 6.78s )\n",
            "Costs of filter  10:   160 ( 6.72s )\n",
            "Costs of filter  13:     8 ( 6.70s )\n",
            "Costs of filter  14:     7 ( 6.69s )\n",
            "Costs of filter  15:    24 ( 6.69s )\n",
            "Costs of filter  16:    45 ( 6.79s )\n",
            "Costs of filter  17:    28 ( 6.82s )\n",
            "Costs of filter  20:    29 ( 6.74s )\n",
            "Costs of filter  24:    12 ( 6.82s )\n",
            "Costs of filter  27:    15 ( 6.68s )\n",
            "Costs of filter  30:     5 ( 6.90s )\n",
            "Costs of filter  31:   110 ( 6.75s )\n",
            "Costs of filter  32:    16 ( 6.67s )\n",
            "Costs of filter  37:    51 ( 6.72s )\n",
            "Costs of filter  40:    28 ( 6.90s )\n",
            "Costs of filter  41:     7 ( 6.77s )\n",
            "Costs of filter  44:   155 ( 7.01s )\n",
            "Costs of filter  45:    16 ( 6.75s )\n",
            "Costs of filter  46:    16 ( 6.85s )\n",
            "Costs of filter  49:   153 ( 6.90s )\n",
            "Costs of filter  58:    59 ( 6.90s )\n",
            "25 filter processed.\n"
          ],
          "name": "stdout"
        }
      ]
    },
    {
      "cell_type": "code",
      "metadata": {
        "id": "1vbZwqWPyQ-q",
        "colab_type": "code",
        "outputId": "31de1bea-1fa3-4a94-a6fd-bab75684b9f6",
        "colab": {
          "base_uri": "https://localhost:8080/",
          "height": 503
        }
      },
      "source": [
        "visualize_layer(resnet_v2, 'conv2_block2_3_conv')"
      ],
      "execution_count": 0,
      "outputs": [
        {
          "output_type": "stream",
          "text": [
            "Compute filters 0 to 256\n",
            "Costs of filter   3:   133 ( 7.88s )\n",
            "Costs of filter   7:    28 ( 8.02s )\n",
            "Costs of filter   8:    26 ( 7.93s )\n",
            "Costs of filter  14:    65 ( 8.04s )\n",
            "Costs of filter  22:   102 ( 8.16s )\n",
            "Costs of filter  25:   251 ( 8.10s )\n",
            "Costs of filter  31:    56 ( 8.45s )\n",
            "Costs of filter  34:   103 ( 8.50s )\n",
            "Costs of filter  35:    95 ( 8.58s )\n",
            "Costs of filter  36:    50 ( 8.43s )\n",
            "Costs of filter  40:    41 ( 8.48s )\n",
            "Costs of filter  43:    15 ( 8.71s )\n",
            "Costs of filter  46:   113 ( 8.86s )\n",
            "Costs of filter  47:   176 ( 8.66s )\n",
            "Costs of filter  51:    91 ( 8.71s )\n",
            "Costs of filter  53:    87 ( 9.03s )\n",
            "Costs of filter  63:    54 ( 9.20s )\n",
            "Costs of filter  66:    50 ( 9.20s )\n",
            "Costs of filter  74:    44 ( 9.45s )\n",
            "Costs of filter  77:    94 ( 9.54s )\n",
            "Costs of filter  79:   122 ( 9.31s )\n",
            "Costs of filter  82:    91 ( 9.27s )\n",
            "Costs of filter  84:    43 ( 9.60s )\n",
            "Costs of filter  85:    32 ( 9.46s )\n",
            "Costs of filter 105:   132 ( 9.77s )\n",
            "25 filter processed.\n"
          ],
          "name": "stdout"
        }
      ]
    },
    {
      "cell_type": "code",
      "metadata": {
        "id": "tZ5BhZrCyQ8W",
        "colab_type": "code",
        "outputId": "7397f5d6-ae11-46fd-cd1f-4459a147fdc9",
        "colab": {
          "base_uri": "https://localhost:8080/",
          "height": 503
        }
      },
      "source": [
        "visualize_layer(resnet_v2, 'conv2_block3_3_conv')"
      ],
      "execution_count": 0,
      "outputs": [
        {
          "output_type": "stream",
          "text": [
            "Compute filters 0 to 256\n",
            "Costs of filter   7:    47 ( 10.54s )\n",
            "Costs of filter   9:    38 ( 10.63s )\n",
            "Costs of filter  10:    47 ( 10.71s )\n",
            "Costs of filter  12:   132 ( 10.72s )\n",
            "Costs of filter  14:    81 ( 10.61s )\n",
            "Costs of filter  16:    50 ( 10.90s )\n",
            "Costs of filter  17:   151 ( 11.24s )\n",
            "Costs of filter  24:    55 ( 11.15s )\n",
            "Costs of filter  31:   112 ( 11.17s )\n",
            "Costs of filter  35:    73 ( 11.38s )\n",
            "Costs of filter  40:    50 ( 11.42s )\n",
            "Costs of filter  41:    34 ( 11.65s )\n",
            "Costs of filter  45:   150 ( 11.50s )\n",
            "Costs of filter  47:   181 ( 11.73s )\n",
            "Costs of filter  48:    58 ( 11.69s )\n",
            "Costs of filter  49:    55 ( 11.94s )\n",
            "Costs of filter  51:   162 ( 12.02s )\n",
            "Costs of filter  68:    82 ( 12.33s )\n",
            "Costs of filter  72:    83 ( 12.44s )\n",
            "Costs of filter  73:   129 ( 12.58s )\n",
            "Costs of filter  74:    68 ( 12.39s )\n",
            "Costs of filter  79:    20 ( 12.51s )\n",
            "Costs of filter  81:   106 ( 12.53s )\n",
            "Costs of filter  84:    12 ( 12.73s )\n",
            "Costs of filter  85:    52 ( 12.95s )\n",
            "25 filter processed.\n"
          ],
          "name": "stdout"
        }
      ]
    },
    {
      "cell_type": "code",
      "metadata": {
        "id": "YHiQgGhTyQ5f",
        "colab_type": "code",
        "outputId": "32f49a6a-282d-408e-e7b5-469d3d60649c",
        "colab": {
          "base_uri": "https://localhost:8080/",
          "height": 503
        }
      },
      "source": [
        "visualize_layer(resnet_v2, 'conv3_block1_3_conv')"
      ],
      "execution_count": 0,
      "outputs": [
        {
          "output_type": "stream",
          "text": [
            "Compute filters 0 to 512\n",
            "Costs of filter   4:    55 ( 13.57s )\n",
            "Costs of filter   7:    26 ( 13.35s )\n",
            "Costs of filter  14:    15 ( 13.62s )\n",
            "Costs of filter  16:    66 ( 13.75s )\n",
            "Costs of filter  18:    49 ( 13.95s )\n",
            "Costs of filter  19:    31 ( 13.83s )\n",
            "Costs of filter  31:    25 ( 14.64s )\n",
            "Costs of filter  32:    48 ( 14.38s )\n",
            "Costs of filter  39:    83 ( 14.56s )\n",
            "Costs of filter  44:    40 ( 15.07s )\n",
            "Costs of filter  47:    32 ( 14.98s )\n",
            "Costs of filter  50:    62 ( 15.16s )\n",
            "Costs of filter  55:    20 ( 15.31s )\n",
            "Costs of filter  63:    21 ( 15.77s )\n",
            "Costs of filter  66:    31 ( 15.43s )\n",
            "Costs of filter  70:    81 ( 15.64s )\n",
            "Costs of filter  83:    52 ( 16.47s )\n",
            "Costs of filter  84:   107 ( 16.30s )\n",
            "Costs of filter  85:    80 ( 16.56s )\n",
            "Costs of filter  87:    16 ( 16.51s )\n",
            "Costs of filter  89:    45 ( 16.65s )\n",
            "Costs of filter  91:    55 ( 16.72s )\n",
            "Costs of filter  92:   107 ( 16.49s )\n",
            "Costs of filter  95:    58 ( 16.75s )\n",
            "Costs of filter  98:    39 ( 16.97s )\n",
            "25 filter processed.\n"
          ],
          "name": "stdout"
        }
      ]
    },
    {
      "cell_type": "code",
      "metadata": {
        "id": "5TdyKjjMo79b",
        "colab_type": "code",
        "outputId": "bc7ed142-95f4-4a06-aaaa-d3de83d62861",
        "colab": {
          "base_uri": "https://localhost:8080/",
          "height": 377
        }
      },
      "source": [
        "visualize_layer(resnet_v2, 'conv3_block4_3_conv')"
      ],
      "execution_count": 0,
      "outputs": [
        {
          "output_type": "stream",
          "text": [
            "Compute filters 0 to 512\n",
            "Costs of filter   1:   169 ( 18.37s )\n",
            "Costs of filter   3:    43 ( 18.60s )\n",
            "Costs of filter   7:    35 ( 19.17s )\n",
            "Costs of filter  12:    45 ( 18.92s )\n",
            "Costs of filter  29:    45 ( 19.96s )\n",
            "Costs of filter  32:    24 ( 20.40s )\n",
            "Costs of filter  34:    46 ( 20.53s )\n",
            "Costs of filter  38:    77 ( 20.58s )\n",
            "Costs of filter  39:    64 ( 20.96s )\n",
            "Costs of filter  41:   150 ( 20.97s )\n",
            "Costs of filter  47:   187 ( 21.23s )\n",
            "Costs of filter  50:    16 ( 21.48s )\n",
            "Costs of filter  51:    45 ( 21.68s )\n",
            "Costs of filter  58:    29 ( 22.04s )\n",
            "Costs of filter  66:    76 ( 22.46s )\n",
            "Costs of filter  68:    57 ( 22.61s )\n",
            "Costs of filter  73:    69 ( 22.79s )\n",
            "Costs of filter  75:    41 ( 23.23s )\n",
            "Costs of filter  76:    34 ( 23.09s )\n"
          ],
          "name": "stdout"
        }
      ]
    },
    {
      "cell_type": "code",
      "metadata": {
        "id": "arqss_p3o76s",
        "colab_type": "code",
        "outputId": "7358a94f-32f2-4890-b23e-af960e01af03",
        "colab": {
          "base_uri": "https://localhost:8080/",
          "height": 503
        }
      },
      "source": [
        "visualize_layer(resnet_v2, 'conv4_block1_3_conv')"
      ],
      "execution_count": 0,
      "outputs": [
        {
          "output_type": "stream",
          "text": [
            "Compute filters 0 to 1024\n",
            "Costs of filter   1:    47 ( 5.51s )\n",
            "Costs of filter   7:    13 ( 4.56s )\n",
            "Costs of filter  10:    47 ( 4.75s )\n",
            "Costs of filter  12:    17 ( 4.90s )\n",
            "Costs of filter  16:    39 ( 5.18s )\n",
            "Costs of filter  18:    39 ( 5.35s )\n",
            "Costs of filter  19:    14 ( 5.43s )\n",
            "Costs of filter  25:    43 ( 5.76s )\n",
            "Costs of filter  26:    70 ( 5.81s )\n",
            "Costs of filter  27:    21 ( 6.17s )\n",
            "Costs of filter  29:    88 ( 6.01s )\n",
            "Costs of filter  33:    19 ( 6.48s )\n",
            "Costs of filter  36:    51 ( 6.68s )\n",
            "Costs of filter  40:    15 ( 6.93s )\n",
            "Costs of filter  41:    10 ( 6.96s )\n",
            "Costs of filter  43:    35 ( 7.17s )\n",
            "Costs of filter  57:    25 ( 8.09s )\n",
            "Costs of filter  64:    23 ( 8.92s )\n",
            "Costs of filter  65:    30 ( 8.60s )\n",
            "Costs of filter  71:    11 ( 9.04s )\n",
            "Costs of filter  76:    30 ( 9.44s )\n",
            "Costs of filter  83:     7 ( 9.88s )\n",
            "Costs of filter  89:    43 ( 10.29s )\n",
            "Costs of filter  93:    78 ( 10.55s )\n",
            "Costs of filter 104:    56 ( 11.38s )\n",
            "25 filter processed.\n"
          ],
          "name": "stdout"
        }
      ]
    },
    {
      "cell_type": "code",
      "metadata": {
        "id": "SyyGR_2go748",
        "colab_type": "code",
        "outputId": "d7978454-f3a9-4467-8742-3e08d8c2e174",
        "colab": {
          "base_uri": "https://localhost:8080/",
          "height": 125
        }
      },
      "source": [
        "visualize_layer(resnet_v2, 'conv4_block6_3_conv')"
      ],
      "execution_count": 0,
      "outputs": [
        {
          "output_type": "stream",
          "text": [
            "Compute filters 0 to 1024\n",
            "Costs of filter   3:    35 ( 58.30s )\n",
            "Costs of filter  47:    61 ( 61.91s )\n",
            "Costs of filter  56:   378 ( 64.66s )\n",
            "Costs of filter 274:   103 ( 90.64s )\n",
            "Costs of filter 319:    21 ( 95.52s )\n"
          ],
          "name": "stdout"
        }
      ]
    },
    {
      "cell_type": "code",
      "metadata": {
        "id": "W_hKx_MSo71N",
        "colab_type": "code",
        "colab": {}
      },
      "source": [
        "visualize_layer(resnet_v2, 'conv5_block1_3_conv')"
      ],
      "execution_count": 0,
      "outputs": []
    },
    {
      "cell_type": "code",
      "metadata": {
        "id": "Rzps6o0Ao7xE",
        "colab_type": "code",
        "colab": {}
      },
      "source": [
        "visualize_layer(resnet_v2, 'conv5_block3_3_conv')"
      ],
      "execution_count": 0,
      "outputs": []
    }
  ]
}