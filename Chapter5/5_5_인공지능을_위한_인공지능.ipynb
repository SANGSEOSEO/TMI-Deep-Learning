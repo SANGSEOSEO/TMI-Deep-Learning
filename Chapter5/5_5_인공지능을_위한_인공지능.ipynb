{
  "nbformat": 4,
  "nbformat_minor": 0,
  "metadata": {
    "colab": {
      "name": "5_5_인공지능을_위한_인공지능.ipynb",
      "provenance": [],
      "collapsed_sections": []
    },
    "kernelspec": {
      "name": "python3",
      "display_name": "Python 3"
    },
    "accelerator": "GPU"
  },
  "cells": [
    {
      "cell_type": "markdown",
      "metadata": {
        "id": "YNPoYB_NWUqy",
        "colab_type": "text"
      },
      "source": [
        "# 인공지능을 위한 인공지능\n",
        "\n",
        "- 작성자: [김찬란](https://github.com/seriousran)"
      ]
    },
    {
      "cell_type": "markdown",
      "metadata": {
        "id": "HaQga5llWZJO",
        "colab_type": "text"
      },
      "source": [
        "## 5.5.1 AutoML"
      ]
    },
    {
      "cell_type": "code",
      "metadata": {
        "id": "JyJz0OqmWhnw",
        "colab_type": "code",
        "colab": {}
      },
      "source": [
        "# 코드 5-32 케라스에서 NasNet\n",
        "\n",
        "From keras.applications.nasnet import NASNetMobile, NASNetLarge\n",
        "nasnet_large = NASNetLarge(include_top=False,\n",
        "                           weights='imagenet')\n",
        "nasnet_mobile = NASNetMobile(include_top=False,\n",
        "                             weights='imagenet')"
      ],
      "execution_count": 0,
      "outputs": []
    },
    {
      "cell_type": "markdown",
      "metadata": {
        "id": "P7EeePBLWzW3",
        "colab_type": "text"
      },
      "source": [
        "## 5.5.2 AutoKeras"
      ]
    },
    {
      "cell_type": "code",
      "metadata": {
        "id": "kv1iu0KL2VEt",
        "colab_type": "code",
        "outputId": "e9324a72-fadd-4015-caf9-fbaa091c9c2c",
        "colab": {
          "base_uri": "https://localhost:8080/",
          "height": 1000
        }
      },
      "source": [
        "# 코드 5-33 AutoKeras 설치 명령어\n",
        "\n",
        "!pip uninstall tensorflow-cpu\n",
        "!pip install --upgrade tensorflow-gpu\n",
        "!pip install autokeras"
      ],
      "execution_count": 0,
      "outputs": [
        {
          "output_type": "stream",
          "text": [
            "\u001b[33mWARNING: Skipping tensorflow-cpu as it is not installed.\u001b[0m\n",
            "Collecting tensorflow-gpu\n",
            "\u001b[?25l  Downloading https://files.pythonhosted.org/packages/0a/93/c7bca39b23aae45cd2e85ad3871c81eccc63b9c5276e926511e2e5b0879d/tensorflow_gpu-2.1.0-cp36-cp36m-manylinux2010_x86_64.whl (421.8MB)\n",
            "\u001b[K     |████████████████████████████████| 421.8MB 39kB/s \n",
            "\u001b[?25hRequirement already satisfied, skipping upgrade: six>=1.12.0 in /usr/local/lib/python3.6/dist-packages (from tensorflow-gpu) (1.12.0)\n",
            "Collecting tensorflow-estimator<2.2.0,>=2.1.0rc0\n",
            "\u001b[?25l  Downloading https://files.pythonhosted.org/packages/18/90/b77c328a1304437ab1310b463e533fa7689f4bfc41549593056d812fab8e/tensorflow_estimator-2.1.0-py2.py3-none-any.whl (448kB)\n",
            "\u001b[K     |████████████████████████████████| 450kB 41.1MB/s \n",
            "\u001b[?25hRequirement already satisfied, skipping upgrade: gast==0.2.2 in /usr/local/lib/python3.6/dist-packages (from tensorflow-gpu) (0.2.2)\n",
            "Requirement already satisfied, skipping upgrade: opt-einsum>=2.3.2 in /usr/local/lib/python3.6/dist-packages (from tensorflow-gpu) (3.1.0)\n",
            "Requirement already satisfied, skipping upgrade: keras-preprocessing>=1.1.0 in /usr/local/lib/python3.6/dist-packages (from tensorflow-gpu) (1.1.0)\n",
            "Requirement already satisfied, skipping upgrade: wheel>=0.26; python_version >= \"3\" in /usr/local/lib/python3.6/dist-packages (from tensorflow-gpu) (0.34.2)\n",
            "Requirement already satisfied, skipping upgrade: google-pasta>=0.1.6 in /usr/local/lib/python3.6/dist-packages (from tensorflow-gpu) (0.1.8)\n",
            "Requirement already satisfied, skipping upgrade: scipy==1.4.1; python_version >= \"3\" in /usr/local/lib/python3.6/dist-packages (from tensorflow-gpu) (1.4.1)\n",
            "Requirement already satisfied, skipping upgrade: numpy<2.0,>=1.16.0 in /usr/local/lib/python3.6/dist-packages (from tensorflow-gpu) (1.17.5)\n",
            "Requirement already satisfied, skipping upgrade: astor>=0.6.0 in /usr/local/lib/python3.6/dist-packages (from tensorflow-gpu) (0.8.1)\n",
            "Requirement already satisfied, skipping upgrade: termcolor>=1.1.0 in /usr/local/lib/python3.6/dist-packages (from tensorflow-gpu) (1.1.0)\n",
            "Requirement already satisfied, skipping upgrade: wrapt>=1.11.1 in /usr/local/lib/python3.6/dist-packages (from tensorflow-gpu) (1.11.2)\n",
            "Requirement already satisfied, skipping upgrade: grpcio>=1.8.6 in /usr/local/lib/python3.6/dist-packages (from tensorflow-gpu) (1.15.0)\n",
            "Collecting tensorboard<2.2.0,>=2.1.0\n",
            "\u001b[?25l  Downloading https://files.pythonhosted.org/packages/40/23/53ffe290341cd0855d595b0a2e7485932f473798af173bbe3a584b99bb06/tensorboard-2.1.0-py3-none-any.whl (3.8MB)\n",
            "\u001b[K     |████████████████████████████████| 3.8MB 45.8MB/s \n",
            "\u001b[?25hRequirement already satisfied, skipping upgrade: absl-py>=0.7.0 in /usr/local/lib/python3.6/dist-packages (from tensorflow-gpu) (0.9.0)\n",
            "Requirement already satisfied, skipping upgrade: keras-applications>=1.0.8 in /usr/local/lib/python3.6/dist-packages (from tensorflow-gpu) (1.0.8)\n",
            "Requirement already satisfied, skipping upgrade: protobuf>=3.8.0 in /usr/local/lib/python3.6/dist-packages (from tensorflow-gpu) (3.10.0)\n",
            "Requirement already satisfied, skipping upgrade: markdown>=2.6.8 in /usr/local/lib/python3.6/dist-packages (from tensorboard<2.2.0,>=2.1.0->tensorflow-gpu) (3.1.1)\n",
            "Collecting google-auth<2,>=1.6.3\n",
            "\u001b[?25l  Downloading https://files.pythonhosted.org/packages/1c/6d/7aae38a9022f982cf8167775c7fc299f203417b698c27080ce09060bba07/google_auth-1.11.0-py2.py3-none-any.whl (76kB)\n",
            "\u001b[K     |████████████████████████████████| 81kB 12.1MB/s \n",
            "\u001b[?25hRequirement already satisfied, skipping upgrade: setuptools>=41.0.0 in /usr/local/lib/python3.6/dist-packages (from tensorboard<2.2.0,>=2.1.0->tensorflow-gpu) (45.1.0)\n",
            "Requirement already satisfied, skipping upgrade: requests<3,>=2.21.0 in /usr/local/lib/python3.6/dist-packages (from tensorboard<2.2.0,>=2.1.0->tensorflow-gpu) (2.21.0)\n",
            "Requirement already satisfied, skipping upgrade: werkzeug>=0.11.15 in /usr/local/lib/python3.6/dist-packages (from tensorboard<2.2.0,>=2.1.0->tensorflow-gpu) (0.16.1)\n",
            "Requirement already satisfied, skipping upgrade: google-auth-oauthlib<0.5,>=0.4.1 in /usr/local/lib/python3.6/dist-packages (from tensorboard<2.2.0,>=2.1.0->tensorflow-gpu) (0.4.1)\n",
            "Requirement already satisfied, skipping upgrade: h5py in /usr/local/lib/python3.6/dist-packages (from keras-applications>=1.0.8->tensorflow-gpu) (2.8.0)\n",
            "Requirement already satisfied, skipping upgrade: cachetools<5.0,>=2.0.0 in /usr/local/lib/python3.6/dist-packages (from google-auth<2,>=1.6.3->tensorboard<2.2.0,>=2.1.0->tensorflow-gpu) (4.0.0)\n",
            "Requirement already satisfied, skipping upgrade: rsa<4.1,>=3.1.4 in /usr/local/lib/python3.6/dist-packages (from google-auth<2,>=1.6.3->tensorboard<2.2.0,>=2.1.0->tensorflow-gpu) (4.0)\n",
            "Requirement already satisfied, skipping upgrade: pyasn1-modules>=0.2.1 in /usr/local/lib/python3.6/dist-packages (from google-auth<2,>=1.6.3->tensorboard<2.2.0,>=2.1.0->tensorflow-gpu) (0.2.8)\n",
            "Requirement already satisfied, skipping upgrade: chardet<3.1.0,>=3.0.2 in /usr/local/lib/python3.6/dist-packages (from requests<3,>=2.21.0->tensorboard<2.2.0,>=2.1.0->tensorflow-gpu) (3.0.4)\n",
            "Requirement already satisfied, skipping upgrade: idna<2.9,>=2.5 in /usr/local/lib/python3.6/dist-packages (from requests<3,>=2.21.0->tensorboard<2.2.0,>=2.1.0->tensorflow-gpu) (2.8)\n",
            "Requirement already satisfied, skipping upgrade: certifi>=2017.4.17 in /usr/local/lib/python3.6/dist-packages (from requests<3,>=2.21.0->tensorboard<2.2.0,>=2.1.0->tensorflow-gpu) (2019.11.28)\n",
            "Requirement already satisfied, skipping upgrade: urllib3<1.25,>=1.21.1 in /usr/local/lib/python3.6/dist-packages (from requests<3,>=2.21.0->tensorboard<2.2.0,>=2.1.0->tensorflow-gpu) (1.24.3)\n",
            "Requirement already satisfied, skipping upgrade: requests-oauthlib>=0.7.0 in /usr/local/lib/python3.6/dist-packages (from google-auth-oauthlib<0.5,>=0.4.1->tensorboard<2.2.0,>=2.1.0->tensorflow-gpu) (1.3.0)\n",
            "Requirement already satisfied, skipping upgrade: pyasn1>=0.1.3 in /usr/local/lib/python3.6/dist-packages (from rsa<4.1,>=3.1.4->google-auth<2,>=1.6.3->tensorboard<2.2.0,>=2.1.0->tensorflow-gpu) (0.4.8)\n",
            "Requirement already satisfied, skipping upgrade: oauthlib>=3.0.0 in /usr/local/lib/python3.6/dist-packages (from requests-oauthlib>=0.7.0->google-auth-oauthlib<0.5,>=0.4.1->tensorboard<2.2.0,>=2.1.0->tensorflow-gpu) (3.1.0)\n",
            "\u001b[31mERROR: tensorflow 1.15.0 has requirement tensorboard<1.16.0,>=1.15.0, but you'll have tensorboard 2.1.0 which is incompatible.\u001b[0m\n",
            "\u001b[31mERROR: tensorflow 1.15.0 has requirement tensorflow-estimator==1.15.1, but you'll have tensorflow-estimator 2.1.0 which is incompatible.\u001b[0m\n",
            "\u001b[31mERROR: tensorboard 2.1.0 has requirement grpcio>=1.24.3, but you'll have grpcio 1.15.0 which is incompatible.\u001b[0m\n",
            "\u001b[31mERROR: google-colab 1.0.0 has requirement google-auth~=1.4.0, but you'll have google-auth 1.11.0 which is incompatible.\u001b[0m\n",
            "Installing collected packages: tensorflow-estimator, google-auth, tensorboard, tensorflow-gpu\n",
            "  Found existing installation: tensorflow-estimator 1.15.1\n",
            "    Uninstalling tensorflow-estimator-1.15.1:\n",
            "      Successfully uninstalled tensorflow-estimator-1.15.1\n",
            "  Found existing installation: google-auth 1.4.2\n",
            "    Uninstalling google-auth-1.4.2:\n",
            "      Successfully uninstalled google-auth-1.4.2\n",
            "  Found existing installation: tensorboard 1.15.0\n",
            "    Uninstalling tensorboard-1.15.0:\n",
            "      Successfully uninstalled tensorboard-1.15.0\n",
            "Successfully installed google-auth-1.11.0 tensorboard-2.1.0 tensorflow-estimator-2.1.0 tensorflow-gpu-2.1.0\n"
          ],
          "name": "stdout"
        },
        {
          "output_type": "display_data",
          "data": {
            "application/vnd.colab-display-data+json": {
              "pip_warning": {
                "packages": [
                  "google"
                ]
              }
            }
          },
          "metadata": {
            "tags": []
          }
        },
        {
          "output_type": "stream",
          "text": [
            "Collecting autokeras\n",
            "\u001b[?25l  Downloading https://files.pythonhosted.org/packages/91/32/86ad97a008d73eb438e0efd153075a802c7a5d89eb5d6da8ee0812d3c544/autokeras-1.0.1-py3-none-any.whl (66kB)\n",
            "\u001b[K     |████████████████████████████████| 71kB 8.4MB/s \n",
            "\u001b[?25hCollecting keras-tuner>=1.0.1\n",
            "\u001b[?25l  Downloading https://files.pythonhosted.org/packages/a7/f7/4b41b6832abf4c9bef71a664dc563adb25afc5812831667c6db572b1a261/keras-tuner-1.0.1.tar.gz (54kB)\n",
            "\u001b[K     |████████████████████████████████| 61kB 9.3MB/s \n",
            "\u001b[?25hRequirement already satisfied: packaging in /usr/local/lib/python3.6/dist-packages (from autokeras) (20.1)\n",
            "Requirement already satisfied: pandas in /usr/local/lib/python3.6/dist-packages (from autokeras) (0.25.3)\n",
            "Requirement already satisfied: numpy in /usr/local/lib/python3.6/dist-packages (from autokeras) (1.17.5)\n",
            "Requirement already satisfied: scikit-learn in /usr/local/lib/python3.6/dist-packages (from autokeras) (0.22.1)\n",
            "Requirement already satisfied: future in /usr/local/lib/python3.6/dist-packages (from keras-tuner>=1.0.1->autokeras) (0.16.0)\n",
            "Requirement already satisfied: tabulate in /usr/local/lib/python3.6/dist-packages (from keras-tuner>=1.0.1->autokeras) (0.8.6)\n",
            "Collecting terminaltables\n",
            "  Downloading https://files.pythonhosted.org/packages/9b/c4/4a21174f32f8a7e1104798c445dacdc1d4df86f2f26722767034e4de4bff/terminaltables-3.1.0.tar.gz\n",
            "Collecting colorama\n",
            "  Downloading https://files.pythonhosted.org/packages/c9/dc/45cdef1b4d119eb96316b3117e6d5708a08029992b2fee2c143c7a0a5cc5/colorama-0.4.3-py2.py3-none-any.whl\n",
            "Requirement already satisfied: tqdm in /usr/local/lib/python3.6/dist-packages (from keras-tuner>=1.0.1->autokeras) (4.28.1)\n",
            "Requirement already satisfied: requests in /usr/local/lib/python3.6/dist-packages (from keras-tuner>=1.0.1->autokeras) (2.21.0)\n",
            "Requirement already satisfied: scipy in /usr/local/lib/python3.6/dist-packages (from keras-tuner>=1.0.1->autokeras) (1.4.1)\n",
            "Requirement already satisfied: pyparsing>=2.0.2 in /usr/local/lib/python3.6/dist-packages (from packaging->autokeras) (2.4.6)\n",
            "Requirement already satisfied: six in /usr/local/lib/python3.6/dist-packages (from packaging->autokeras) (1.12.0)\n",
            "Requirement already satisfied: pytz>=2017.2 in /usr/local/lib/python3.6/dist-packages (from pandas->autokeras) (2018.9)\n",
            "Requirement already satisfied: python-dateutil>=2.6.1 in /usr/local/lib/python3.6/dist-packages (from pandas->autokeras) (2.6.1)\n",
            "Requirement already satisfied: joblib>=0.11 in /usr/local/lib/python3.6/dist-packages (from scikit-learn->autokeras) (0.14.1)\n",
            "Requirement already satisfied: chardet<3.1.0,>=3.0.2 in /usr/local/lib/python3.6/dist-packages (from requests->keras-tuner>=1.0.1->autokeras) (3.0.4)\n",
            "Requirement already satisfied: certifi>=2017.4.17 in /usr/local/lib/python3.6/dist-packages (from requests->keras-tuner>=1.0.1->autokeras) (2019.11.28)\n",
            "Requirement already satisfied: idna<2.9,>=2.5 in /usr/local/lib/python3.6/dist-packages (from requests->keras-tuner>=1.0.1->autokeras) (2.8)\n",
            "Requirement already satisfied: urllib3<1.25,>=1.21.1 in /usr/local/lib/python3.6/dist-packages (from requests->keras-tuner>=1.0.1->autokeras) (1.24.3)\n",
            "Building wheels for collected packages: keras-tuner, terminaltables\n",
            "  Building wheel for keras-tuner (setup.py) ... \u001b[?25l\u001b[?25hdone\n",
            "  Created wheel for keras-tuner: filename=keras_tuner-1.0.1-cp36-none-any.whl size=73200 sha256=38bf3f47cff96ef90ed77c79e22cc2b5b8eace639e57f9ba4732b4bd75502e74\n",
            "  Stored in directory: /root/.cache/pip/wheels/b9/cc/62/52716b70dd90f3db12519233c3a93a5360bc672da1a10ded43\n",
            "  Building wheel for terminaltables (setup.py) ... \u001b[?25l\u001b[?25hdone\n",
            "  Created wheel for terminaltables: filename=terminaltables-3.1.0-cp36-none-any.whl size=15356 sha256=32be8596d46b7a596868f5e2d79697675e96e1a322e5d60c1c3ac788780eddec\n",
            "  Stored in directory: /root/.cache/pip/wheels/30/6b/50/6c75775b681fb36cdfac7f19799888ef9d8813aff9e379663e\n",
            "Successfully built keras-tuner terminaltables\n",
            "Installing collected packages: terminaltables, colorama, keras-tuner, autokeras\n",
            "Successfully installed autokeras-1.0.1 colorama-0.4.3 keras-tuner-1.0.1 terminaltables-3.1.0\n"
          ],
          "name": "stdout"
        }
      ]
    },
    {
      "cell_type": "code",
      "metadata": {
        "id": "HeOXwClaW8rP",
        "colab_type": "code",
        "colab": {}
      },
      "source": [
        "# 코드 5-34 AutoKeras를 이용한 이미지 분류\n",
        "\n",
        "import autokeras as ak\n",
        "\n",
        "\n",
        "clf = ak.ImageClassifier()\n",
        "clf.fit(x_train, y_train)\n",
        "results = clf.predict(x_test)"
      ],
      "execution_count": 0,
      "outputs": []
    },
    {
      "cell_type": "code",
      "metadata": {
        "id": "NZw1g8vf2cB7",
        "colab_type": "code",
        "outputId": "4077dd32-ebce-44e0-b4bb-4e50a4f00707",
        "colab": {
          "base_uri": "https://localhost:8080/",
          "height": 1000
        }
      },
      "source": [
        "# 코드 5-35 AutoKeras를 활용한 MNIST\n",
        "\n",
        "import autokeras as ak\n",
        "from tensorflow.keras.datasets import mnist\n",
        "\n",
        "(x_train, y_train), (x_test, y_test) = mnist.load_data()\n",
        "\n",
        "clf = ak.ImageClassifier(max_trials=3) \n",
        "clf.fit(x_train, y_train)\n",
        "predicted_y = clf.predict(x_test)\n",
        "print(clf.evaluate(x_test, y_test))"
      ],
      "execution_count": 0,
      "outputs": [
        {
          "output_type": "stream",
          "text": [
            "Train for 1500 steps, validate for 375 steps\n",
            "Epoch 1/1000\n",
            "1500/1500 [==============================] - 10s 6ms/step - loss: 0.9167 - accuracy: 0.6871 - val_loss: 0.1803 - val_accuracy: 0.9510\n",
            "Epoch 2/1000\n",
            "1500/1500 [==============================] - 10s 6ms/step - loss: 0.4337 - accuracy: 0.8596 - val_loss: 0.1348 - val_accuracy: 0.9637\n",
            "Epoch 3/1000\n",
            "1500/1500 [==============================] - 11s 7ms/step - loss: 0.3483 - accuracy: 0.8893 - val_loss: 0.0973 - val_accuracy: 0.9752\n",
            "Epoch 4/1000\n",
            "1500/1500 [==============================] - 10s 7ms/step - loss: 0.3021 - accuracy: 0.9034 - val_loss: 0.0819 - val_accuracy: 0.9778\n",
            "Epoch 5/1000\n",
            "1500/1500 [==============================] - 10s 6ms/step - loss: 0.2608 - accuracy: 0.9176 - val_loss: 0.0677 - val_accuracy: 0.9810\n",
            "Epoch 6/1000\n",
            "1500/1500 [==============================] - 9s 6ms/step - loss: 0.2383 - accuracy: 0.9231 - val_loss: 0.0656 - val_accuracy: 0.9827\n",
            "Epoch 7/1000\n",
            "1500/1500 [==============================] - 10s 6ms/step - loss: 0.2266 - accuracy: 0.9282 - val_loss: 0.0693 - val_accuracy: 0.9802\n",
            "Epoch 8/1000\n",
            "1500/1500 [==============================] - 9s 6ms/step - loss: 0.2107 - accuracy: 0.9318 - val_loss: 0.0572 - val_accuracy: 0.9833\n",
            "Epoch 9/1000\n",
            "1500/1500 [==============================] - 11s 7ms/step - loss: 0.2034 - accuracy: 0.9360 - val_loss: 0.0560 - val_accuracy: 0.9846\n",
            "Epoch 10/1000\n",
            "1500/1500 [==============================] - 10s 7ms/step - loss: 0.1898 - accuracy: 0.9395 - val_loss: 0.0548 - val_accuracy: 0.9860\n",
            "Epoch 11/1000\n",
            "1500/1500 [==============================] - 10s 6ms/step - loss: 0.1852 - accuracy: 0.9412 - val_loss: 0.0638 - val_accuracy: 0.9822\n",
            "Epoch 12/1000\n",
            "1500/1500 [==============================] - 9s 6ms/step - loss: 0.1757 - accuracy: 0.9425 - val_loss: 0.0534 - val_accuracy: 0.9860\n",
            "Epoch 13/1000\n",
            "1500/1500 [==============================] - 10s 6ms/step - loss: 0.1689 - accuracy: 0.9459 - val_loss: 0.0520 - val_accuracy: 0.9863\n",
            "Epoch 14/1000\n",
            "1500/1500 [==============================] - 10s 7ms/step - loss: 0.1651 - accuracy: 0.9473 - val_loss: 0.0605 - val_accuracy: 0.9837\n",
            "Epoch 15/1000\n",
            "1500/1500 [==============================] - 10s 7ms/step - loss: 0.1613 - accuracy: 0.9487 - val_loss: 0.0538 - val_accuracy: 0.9860\n",
            "Epoch 16/1000\n",
            "1500/1500 [==============================] - 9s 6ms/step - loss: 0.1569 - accuracy: 0.9499 - val_loss: 0.0490 - val_accuracy: 0.9868\n",
            "Epoch 17/1000\n",
            "1500/1500 [==============================] - 9s 6ms/step - loss: 0.1455 - accuracy: 0.9527 - val_loss: 0.0476 - val_accuracy: 0.9874\n",
            "Epoch 18/1000\n",
            "1500/1500 [==============================] - 9s 6ms/step - loss: 0.1452 - accuracy: 0.9546 - val_loss: 0.0553 - val_accuracy: 0.9860\n",
            "Epoch 19/1000\n",
            "1500/1500 [==============================] - 9s 6ms/step - loss: 0.1427 - accuracy: 0.9535 - val_loss: 0.0497 - val_accuracy: 0.9870\n",
            "Epoch 20/1000\n",
            "1500/1500 [==============================] - 9s 6ms/step - loss: 0.1379 - accuracy: 0.9561 - val_loss: 0.0568 - val_accuracy: 0.9863\n",
            "Epoch 21/1000\n",
            "1500/1500 [==============================] - 10s 6ms/step - loss: 0.1359 - accuracy: 0.9562 - val_loss: 0.0567 - val_accuracy: 0.9859\n",
            "Epoch 22/1000\n",
            "1500/1500 [==============================] - 10s 7ms/step - loss: 0.1333 - accuracy: 0.9571 - val_loss: 0.0627 - val_accuracy: 0.9834\n",
            "Epoch 23/1000\n",
            "1500/1500 [==============================] - 10s 6ms/step - loss: 0.1295 - accuracy: 0.9576 - val_loss: 0.0547 - val_accuracy: 0.9858\n",
            "Epoch 24/1000\n",
            "1500/1500 [==============================] - 10s 7ms/step - loss: 0.1273 - accuracy: 0.9602 - val_loss: 0.0568 - val_accuracy: 0.9852\n",
            "Epoch 25/1000\n",
            "1500/1500 [==============================] - 9s 6ms/step - loss: 0.1276 - accuracy: 0.9603 - val_loss: 0.0479 - val_accuracy: 0.9889\n",
            "Epoch 26/1000\n",
            "1500/1500 [==============================] - 9s 6ms/step - loss: 0.1222 - accuracy: 0.9610 - val_loss: 0.0507 - val_accuracy: 0.9872\n",
            "Epoch 27/1000\n",
            "1500/1500 [==============================] - 10s 6ms/step - loss: 0.1204 - accuracy: 0.9610 - val_loss: 0.0455 - val_accuracy: 0.9883\n",
            "Epoch 28/1000\n",
            "1500/1500 [==============================] - 10s 7ms/step - loss: 0.1197 - accuracy: 0.9604 - val_loss: 0.0520 - val_accuracy: 0.9870\n",
            "Epoch 29/1000\n",
            "1500/1500 [==============================] - 9s 6ms/step - loss: 0.1159 - accuracy: 0.9623 - val_loss: 0.0478 - val_accuracy: 0.9879\n",
            "Epoch 30/1000\n",
            "1500/1500 [==============================] - 10s 6ms/step - loss: 0.1143 - accuracy: 0.9636 - val_loss: 0.0496 - val_accuracy: 0.9887\n",
            "Epoch 31/1000\n",
            "1500/1500 [==============================] - 10s 6ms/step - loss: 0.1132 - accuracy: 0.9631 - val_loss: 0.0502 - val_accuracy: 0.9887\n",
            "Epoch 32/1000\n",
            "1500/1500 [==============================] - 9s 6ms/step - loss: 0.1114 - accuracy: 0.9647 - val_loss: 0.0581 - val_accuracy: 0.9871\n",
            "Epoch 33/1000\n",
            "1500/1500 [==============================] - 9s 6ms/step - loss: 0.1128 - accuracy: 0.9627 - val_loss: 0.0499 - val_accuracy: 0.9879\n",
            "Epoch 34/1000\n",
            "1500/1500 [==============================] - 10s 6ms/step - loss: 0.1061 - accuracy: 0.9653 - val_loss: 0.0461 - val_accuracy: 0.9892\n",
            "Epoch 35/1000\n",
            "1500/1500 [==============================] - 10s 7ms/step - loss: 0.1063 - accuracy: 0.9647 - val_loss: 0.0444 - val_accuracy: 0.9902\n",
            "Epoch 36/1000\n",
            "1500/1500 [==============================] - 10s 7ms/step - loss: 0.1084 - accuracy: 0.9653 - val_loss: 0.0510 - val_accuracy: 0.9877\n",
            "Epoch 37/1000\n",
            "1500/1500 [==============================] - 9s 6ms/step - loss: 0.0988 - accuracy: 0.9675 - val_loss: 0.0491 - val_accuracy: 0.9886\n",
            "Epoch 38/1000\n",
            "1500/1500 [==============================] - 9s 6ms/step - loss: 0.1010 - accuracy: 0.9673 - val_loss: 0.0463 - val_accuracy: 0.9894\n",
            "Epoch 39/1000\n",
            "1500/1500 [==============================] - 10s 6ms/step - loss: 0.0969 - accuracy: 0.9690 - val_loss: 0.0491 - val_accuracy: 0.9893\n",
            "Epoch 40/1000\n",
            "1500/1500 [==============================] - 10s 7ms/step - loss: 0.0969 - accuracy: 0.9677 - val_loss: 0.0480 - val_accuracy: 0.9886\n",
            "Epoch 41/1000\n",
            "1500/1500 [==============================] - 10s 6ms/step - loss: 0.0988 - accuracy: 0.9674 - val_loss: 0.0494 - val_accuracy: 0.9887\n",
            "Epoch 42/1000\n",
            "1500/1500 [==============================] - 10s 6ms/step - loss: 0.0962 - accuracy: 0.9693 - val_loss: 0.0511 - val_accuracy: 0.9898\n",
            "Epoch 43/1000\n",
            "1500/1500 [==============================] - 10s 7ms/step - loss: 0.0921 - accuracy: 0.9703 - val_loss: 0.0494 - val_accuracy: 0.9883\n",
            "Epoch 44/1000\n",
            "1500/1500 [==============================] - 9s 6ms/step - loss: 0.0943 - accuracy: 0.9694 - val_loss: 0.0457 - val_accuracy: 0.9890\n",
            "Epoch 45/1000\n",
            "1500/1500 [==============================] - 10s 6ms/step - loss: 0.0942 - accuracy: 0.9697 - val_loss: 0.0477 - val_accuracy: 0.9895\n"
          ],
          "name": "stdout"
        },
        {
          "output_type": "display_data",
          "data": {
            "text/html": [
              "<span style=\"color:#4527A0\"><h1 style=\"font-size:18px\">Trial complete</h1></span>"
            ],
            "text/plain": [
              "<IPython.core.display.HTML object>"
            ]
          },
          "metadata": {
            "tags": []
          }
        },
        {
          "output_type": "display_data",
          "data": {
            "text/html": [
              "<span style=\"color:#4527A0\"><h1 style=\"font-size:18px\">Trial summary</h1></span>"
            ],
            "text/plain": [
              "<IPython.core.display.HTML object>"
            ]
          },
          "metadata": {
            "tags": []
          }
        },
        {
          "output_type": "display_data",
          "data": {
            "text/html": [
              "<span style=\"color:cyan\"> |-Trial ID: 53fcabeee7cc0a620e11b8c1ba3f75cb</span>"
            ],
            "text/plain": [
              "<IPython.core.display.HTML object>"
            ]
          },
          "metadata": {
            "tags": []
          }
        },
        {
          "output_type": "display_data",
          "data": {
            "text/html": [
              "<span style=\"color:cyan\"> |-Score: 0.044388688283600305</span>"
            ],
            "text/plain": [
              "<IPython.core.display.HTML object>"
            ]
          },
          "metadata": {
            "tags": []
          }
        },
        {
          "output_type": "display_data",
          "data": {
            "text/html": [
              "<span style=\"color:cyan\"> |-Best step: 0</span>"
            ],
            "text/plain": [
              "<IPython.core.display.HTML object>"
            ]
          },
          "metadata": {
            "tags": []
          }
        },
        {
          "output_type": "display_data",
          "data": {
            "text/html": [
              "<span style=\"color:#7E57C2\"><h2 style=\"font-size:16px\">Hyperparameters:</h2></span>"
            ],
            "text/plain": [
              "<IPython.core.display.HTML object>"
            ]
          },
          "metadata": {
            "tags": []
          }
        },
        {
          "output_type": "display_data",
          "data": {
            "text/html": [
              "<span style=\"color:cyan\"> |-classification_head_1/dropout_rate: 0.5</span>"
            ],
            "text/plain": [
              "<IPython.core.display.HTML object>"
            ]
          },
          "metadata": {
            "tags": []
          }
        },
        {
          "output_type": "display_data",
          "data": {
            "text/html": [
              "<span style=\"color:blue\"> |-classification_head_1/spatial_reduction_1/reduction_type: global_avg</span>"
            ],
            "text/plain": [
              "<IPython.core.display.HTML object>"
            ]
          },
          "metadata": {
            "tags": []
          }
        },
        {
          "output_type": "display_data",
          "data": {
            "text/html": [
              "<span style=\"color:cyan\"> |-classification_head_1/spatial_reduction_2/reduction_type: global_avg</span>"
            ],
            "text/plain": [
              "<IPython.core.display.HTML object>"
            ]
          },
          "metadata": {
            "tags": []
          }
        },
        {
          "output_type": "display_data",
          "data": {
            "text/html": [
              "<span style=\"color:blue\"> |-dense_block_1/dropout_rate: 0</span>"
            ],
            "text/plain": [
              "<IPython.core.display.HTML object>"
            ]
          },
          "metadata": {
            "tags": []
          }
        },
        {
          "output_type": "display_data",
          "data": {
            "text/html": [
              "<span style=\"color:cyan\"> |-dense_block_1/num_layers: 1</span>"
            ],
            "text/plain": [
              "<IPython.core.display.HTML object>"
            ]
          },
          "metadata": {
            "tags": []
          }
        },
        {
          "output_type": "display_data",
          "data": {
            "text/html": [
              "<span style=\"color:blue\"> |-dense_block_1/units_0: 128</span>"
            ],
            "text/plain": [
              "<IPython.core.display.HTML object>"
            ]
          },
          "metadata": {
            "tags": []
          }
        },
        {
          "output_type": "display_data",
          "data": {
            "text/html": [
              "<span style=\"color:cyan\"> |-dense_block_1/use_batchnorm: False</span>"
            ],
            "text/plain": [
              "<IPython.core.display.HTML object>"
            ]
          },
          "metadata": {
            "tags": []
          }
        },
        {
          "output_type": "display_data",
          "data": {
            "text/html": [
              "<span style=\"color:blue\"> |-image_block_1/augment: False</span>"
            ],
            "text/plain": [
              "<IPython.core.display.HTML object>"
            ]
          },
          "metadata": {
            "tags": []
          }
        },
        {
          "output_type": "display_data",
          "data": {
            "text/html": [
              "<span style=\"color:cyan\"> |-image_block_1/block_type: vanilla</span>"
            ],
            "text/plain": [
              "<IPython.core.display.HTML object>"
            ]
          },
          "metadata": {
            "tags": []
          }
        },
        {
          "output_type": "display_data",
          "data": {
            "text/html": [
              "<span style=\"color:blue\"> |-image_block_1/conv_block_1/dropout_rate: 0</span>"
            ],
            "text/plain": [
              "<IPython.core.display.HTML object>"
            ]
          },
          "metadata": {
            "tags": []
          }
        },
        {
          "output_type": "display_data",
          "data": {
            "text/html": [
              "<span style=\"color:cyan\"> |-image_block_1/conv_block_1/filters_0_1: 32</span>"
            ],
            "text/plain": [
              "<IPython.core.display.HTML object>"
            ]
          },
          "metadata": {
            "tags": []
          }
        },
        {
          "output_type": "display_data",
          "data": {
            "text/html": [
              "<span style=\"color:blue\"> |-image_block_1/conv_block_1/filters_0_2: 32</span>"
            ],
            "text/plain": [
              "<IPython.core.display.HTML object>"
            ]
          },
          "metadata": {
            "tags": []
          }
        },
        {
          "output_type": "display_data",
          "data": {
            "text/html": [
              "<span style=\"color:cyan\"> |-image_block_1/conv_block_1/filters_1_1: 32</span>"
            ],
            "text/plain": [
              "<IPython.core.display.HTML object>"
            ]
          },
          "metadata": {
            "tags": []
          }
        },
        {
          "output_type": "display_data",
          "data": {
            "text/html": [
              "<span style=\"color:blue\"> |-image_block_1/conv_block_1/filters_1_2: 32</span>"
            ],
            "text/plain": [
              "<IPython.core.display.HTML object>"
            ]
          },
          "metadata": {
            "tags": []
          }
        },
        {
          "output_type": "display_data",
          "data": {
            "text/html": [
              "<span style=\"color:cyan\"> |-image_block_1/conv_block_1/kernel_size: 3</span>"
            ],
            "text/plain": [
              "<IPython.core.display.HTML object>"
            ]
          },
          "metadata": {
            "tags": []
          }
        },
        {
          "output_type": "display_data",
          "data": {
            "text/html": [
              "<span style=\"color:blue\"> |-image_block_1/conv_block_1/num_blocks: 2</span>"
            ],
            "text/plain": [
              "<IPython.core.display.HTML object>"
            ]
          },
          "metadata": {
            "tags": []
          }
        },
        {
          "output_type": "display_data",
          "data": {
            "text/html": [
              "<span style=\"color:cyan\"> |-image_block_1/conv_block_1/separable: False</span>"
            ],
            "text/plain": [
              "<IPython.core.display.HTML object>"
            ]
          },
          "metadata": {
            "tags": []
          }
        },
        {
          "output_type": "display_data",
          "data": {
            "text/html": [
              "<span style=\"color:blue\"> |-image_block_1/conv_block_2/dropout_rate: 0</span>"
            ],
            "text/plain": [
              "<IPython.core.display.HTML object>"
            ]
          },
          "metadata": {
            "tags": []
          }
        },
        {
          "output_type": "display_data",
          "data": {
            "text/html": [
              "<span style=\"color:cyan\"> |-image_block_1/conv_block_2/filters_0_1: 32</span>"
            ],
            "text/plain": [
              "<IPython.core.display.HTML object>"
            ]
          },
          "metadata": {
            "tags": []
          }
        },
        {
          "output_type": "display_data",
          "data": {
            "text/html": [
              "<span style=\"color:blue\"> |-image_block_1/conv_block_2/filters_0_2: 32</span>"
            ],
            "text/plain": [
              "<IPython.core.display.HTML object>"
            ]
          },
          "metadata": {
            "tags": []
          }
        },
        {
          "output_type": "display_data",
          "data": {
            "text/html": [
              "<span style=\"color:cyan\"> |-image_block_1/conv_block_2/filters_1_1: 32</span>"
            ],
            "text/plain": [
              "<IPython.core.display.HTML object>"
            ]
          },
          "metadata": {
            "tags": []
          }
        },
        {
          "output_type": "display_data",
          "data": {
            "text/html": [
              "<span style=\"color:blue\"> |-image_block_1/conv_block_2/filters_1_2: 32</span>"
            ],
            "text/plain": [
              "<IPython.core.display.HTML object>"
            ]
          },
          "metadata": {
            "tags": []
          }
        },
        {
          "output_type": "display_data",
          "data": {
            "text/html": [
              "<span style=\"color:cyan\"> |-image_block_1/conv_block_2/kernel_size: 3</span>"
            ],
            "text/plain": [
              "<IPython.core.display.HTML object>"
            ]
          },
          "metadata": {
            "tags": []
          }
        },
        {
          "output_type": "display_data",
          "data": {
            "text/html": [
              "<span style=\"color:blue\"> |-image_block_1/conv_block_2/num_blocks: 2</span>"
            ],
            "text/plain": [
              "<IPython.core.display.HTML object>"
            ]
          },
          "metadata": {
            "tags": []
          }
        },
        {
          "output_type": "display_data",
          "data": {
            "text/html": [
              "<span style=\"color:cyan\"> |-image_block_1/conv_block_2/separable: False</span>"
            ],
            "text/plain": [
              "<IPython.core.display.HTML object>"
            ]
          },
          "metadata": {
            "tags": []
          }
        },
        {
          "output_type": "display_data",
          "data": {
            "text/html": [
              "<span style=\"color:blue\"> |-image_block_1/normalize: True</span>"
            ],
            "text/plain": [
              "<IPython.core.display.HTML object>"
            ]
          },
          "metadata": {
            "tags": []
          }
        },
        {
          "output_type": "display_data",
          "data": {
            "text/html": [
              "<span style=\"color:cyan\"> |-image_block_1/vanilla_1/dropout_rate: 0.25</span>"
            ],
            "text/plain": [
              "<IPython.core.display.HTML object>"
            ]
          },
          "metadata": {
            "tags": []
          }
        },
        {
          "output_type": "display_data",
          "data": {
            "text/html": [
              "<span style=\"color:blue\"> |-image_block_1/vanilla_1/filters_0_1: 32</span>"
            ],
            "text/plain": [
              "<IPython.core.display.HTML object>"
            ]
          },
          "metadata": {
            "tags": []
          }
        },
        {
          "output_type": "display_data",
          "data": {
            "text/html": [
              "<span style=\"color:cyan\"> |-image_block_1/vanilla_1/filters_0_2: 64</span>"
            ],
            "text/plain": [
              "<IPython.core.display.HTML object>"
            ]
          },
          "metadata": {
            "tags": []
          }
        },
        {
          "output_type": "display_data",
          "data": {
            "text/html": [
              "<span style=\"color:blue\"> |-image_block_1/vanilla_1/kernel_size: 3</span>"
            ],
            "text/plain": [
              "<IPython.core.display.HTML object>"
            ]
          },
          "metadata": {
            "tags": []
          }
        },
        {
          "output_type": "display_data",
          "data": {
            "text/html": [
              "<span style=\"color:cyan\"> |-image_block_1/vanilla_1/num_blocks: 1</span>"
            ],
            "text/plain": [
              "<IPython.core.display.HTML object>"
            ]
          },
          "metadata": {
            "tags": []
          }
        },
        {
          "output_type": "display_data",
          "data": {
            "text/html": [
              "<span style=\"color:blue\"> |-image_block_1/vanilla_1/separable: False</span>"
            ],
            "text/plain": [
              "<IPython.core.display.HTML object>"
            ]
          },
          "metadata": {
            "tags": []
          }
        },
        {
          "output_type": "display_data",
          "data": {
            "text/html": [
              "<span style=\"color:cyan\"> |-optimizer: adam</span>"
            ],
            "text/plain": [
              "<IPython.core.display.HTML object>"
            ]
          },
          "metadata": {
            "tags": []
          }
        },
        {
          "output_type": "display_data",
          "data": {
            "text/html": [
              "<span style=\"color:blue\"> |-spatial_reduction_1/reduction_type: flatten</span>"
            ],
            "text/plain": [
              "<IPython.core.display.HTML object>"
            ]
          },
          "metadata": {
            "tags": []
          }
        },
        {
          "output_type": "stream",
          "text": [
            "Train for 1500 steps, validate for 375 steps\n",
            "Epoch 1/1000\n",
            "1500/1500 [==============================] - 69s 46ms/step - loss: 0.2622 - accuracy: 0.9290 - val_loss: 0.2169 - val_accuracy: 0.9428\n",
            "Epoch 2/1000\n",
            "1500/1500 [==============================] - 63s 42ms/step - loss: 0.1163 - accuracy: 0.9696 - val_loss: 1.4652 - val_accuracy: 0.8360\n",
            "Epoch 3/1000\n",
            "1500/1500 [==============================] - 64s 43ms/step - loss: 0.1287 - accuracy: 0.9681 - val_loss: 0.0934 - val_accuracy: 0.9729\n",
            "Epoch 4/1000\n",
            "1500/1500 [==============================] - 64s 43ms/step - loss: 0.0798 - accuracy: 0.9792 - val_loss: 0.0591 - val_accuracy: 0.9829\n",
            "Epoch 5/1000\n",
            "1500/1500 [==============================] - 63s 42ms/step - loss: 0.0643 - accuracy: 0.9824 - val_loss: 0.1190 - val_accuracy: 0.9685\n",
            "Epoch 6/1000\n",
            "1500/1500 [==============================] - 64s 43ms/step - loss: 0.0603 - accuracy: 0.9840 - val_loss: 0.0566 - val_accuracy: 0.9837\n",
            "Epoch 7/1000\n",
            "1500/1500 [==============================] - 63s 42ms/step - loss: 0.0569 - accuracy: 0.9850 - val_loss: 0.0687 - val_accuracy: 0.9809\n",
            "Epoch 8/1000\n",
            "1500/1500 [==============================] - 64s 43ms/step - loss: 0.0386 - accuracy: 0.9890 - val_loss: 0.0408 - val_accuracy: 0.9890\n",
            "Epoch 9/1000\n",
            "1500/1500 [==============================] - 64s 42ms/step - loss: 0.0353 - accuracy: 0.9896 - val_loss: 0.0611 - val_accuracy: 0.9833\n",
            "Epoch 10/1000\n",
            "1500/1500 [==============================] - 63s 42ms/step - loss: 0.0316 - accuracy: 0.9906 - val_loss: 0.0622 - val_accuracy: 0.9848\n",
            "Epoch 11/1000\n",
            "1500/1500 [==============================] - 63s 42ms/step - loss: 0.0265 - accuracy: 0.9920 - val_loss: 0.0534 - val_accuracy: 0.9854\n",
            "Epoch 12/1000\n",
            "1500/1500 [==============================] - 64s 43ms/step - loss: 0.0225 - accuracy: 0.9934 - val_loss: 0.0372 - val_accuracy: 0.9904\n",
            "Epoch 13/1000\n",
            "1500/1500 [==============================] - 63s 42ms/step - loss: 0.0257 - accuracy: 0.9929 - val_loss: 0.0452 - val_accuracy: 0.9893\n",
            "Epoch 14/1000\n",
            "1500/1500 [==============================] - 63s 42ms/step - loss: 0.0163 - accuracy: 0.9951 - val_loss: 0.0391 - val_accuracy: 0.9912\n",
            "Epoch 15/1000\n",
            "1500/1500 [==============================] - 63s 42ms/step - loss: 0.0154 - accuracy: 0.9952 - val_loss: 0.0408 - val_accuracy: 0.9908\n",
            "Epoch 16/1000\n",
            "1500/1500 [==============================] - 63s 42ms/step - loss: 0.0142 - accuracy: 0.9961 - val_loss: 0.0477 - val_accuracy: 0.9885\n",
            "Epoch 17/1000\n",
            "1500/1500 [==============================] - 63s 42ms/step - loss: 0.0195 - accuracy: 0.9949 - val_loss: 0.0409 - val_accuracy: 0.9913\n",
            "Epoch 18/1000\n",
            "1500/1500 [==============================] - 64s 43ms/step - loss: 0.0119 - accuracy: 0.9966 - val_loss: 0.0365 - val_accuracy: 0.9911\n",
            "Epoch 19/1000\n",
            "1500/1500 [==============================] - 62s 42ms/step - loss: 0.0100 - accuracy: 0.9972 - val_loss: 0.0553 - val_accuracy: 0.9890\n",
            "Epoch 20/1000\n",
            "1500/1500 [==============================] - 63s 42ms/step - loss: 0.0114 - accuracy: 0.9968 - val_loss: 0.0470 - val_accuracy: 0.9900\n",
            "Epoch 21/1000\n",
            "1500/1500 [==============================] - 63s 42ms/step - loss: 0.0095 - accuracy: 0.9974 - val_loss: 0.0562 - val_accuracy: 0.9882\n",
            "Epoch 22/1000\n",
            "1500/1500 [==============================] - 62s 42ms/step - loss: 0.0099 - accuracy: 0.9971 - val_loss: 0.0603 - val_accuracy: 0.9894\n",
            "Epoch 23/1000\n",
            "1500/1500 [==============================] - 63s 42ms/step - loss: 0.0095 - accuracy: 0.9971 - val_loss: 0.0434 - val_accuracy: 0.9907\n",
            "Epoch 24/1000\n",
            "1500/1500 [==============================] - 63s 42ms/step - loss: 0.0072 - accuracy: 0.9978 - val_loss: 0.0466 - val_accuracy: 0.9903\n",
            "Epoch 25/1000\n",
            "1500/1500 [==============================] - 62s 42ms/step - loss: 0.0119 - accuracy: 0.9971 - val_loss: 0.0496 - val_accuracy: 0.9899\n",
            "Epoch 26/1000\n",
            "1500/1500 [==============================] - 62s 42ms/step - loss: 0.0100 - accuracy: 0.9975 - val_loss: 0.0447 - val_accuracy: 0.9899\n",
            "Epoch 27/1000\n",
            "1500/1500 [==============================] - 62s 42ms/step - loss: 0.0077 - accuracy: 0.9975 - val_loss: 0.0534 - val_accuracy: 0.9904\n",
            "Epoch 28/1000\n",
            "1500/1500 [==============================] - 62s 42ms/step - loss: 0.0057 - accuracy: 0.9983 - val_loss: 0.0495 - val_accuracy: 0.9893\n"
          ],
          "name": "stdout"
        },
        {
          "output_type": "display_data",
          "data": {
            "text/html": [
              "<span style=\"color:#4527A0\"><h1 style=\"font-size:18px\">Trial complete</h1></span>"
            ],
            "text/plain": [
              "<IPython.core.display.HTML object>"
            ]
          },
          "metadata": {
            "tags": []
          }
        },
        {
          "output_type": "display_data",
          "data": {
            "text/html": [
              "<span style=\"color:#4527A0\"><h1 style=\"font-size:18px\">Trial summary</h1></span>"
            ],
            "text/plain": [
              "<IPython.core.display.HTML object>"
            ]
          },
          "metadata": {
            "tags": []
          }
        },
        {
          "output_type": "display_data",
          "data": {
            "text/html": [
              "<span style=\"color:cyan\"> |-Trial ID: f45dabfb524b51d95c655a4fc746e4ef</span>"
            ],
            "text/plain": [
              "<IPython.core.display.HTML object>"
            ]
          },
          "metadata": {
            "tags": []
          }
        },
        {
          "output_type": "display_data",
          "data": {
            "text/html": [
              "<span style=\"color:cyan\"> |-Score: 0.03648243038689119</span>"
            ],
            "text/plain": [
              "<IPython.core.display.HTML object>"
            ]
          },
          "metadata": {
            "tags": []
          }
        },
        {
          "output_type": "display_data",
          "data": {
            "text/html": [
              "<span style=\"color:cyan\"> |-Best step: 0</span>"
            ],
            "text/plain": [
              "<IPython.core.display.HTML object>"
            ]
          },
          "metadata": {
            "tags": []
          }
        },
        {
          "output_type": "display_data",
          "data": {
            "text/html": [
              "<span style=\"color:#7E57C2\"><h2 style=\"font-size:16px\">Hyperparameters:</h2></span>"
            ],
            "text/plain": [
              "<IPython.core.display.HTML object>"
            ]
          },
          "metadata": {
            "tags": []
          }
        },
        {
          "output_type": "display_data",
          "data": {
            "text/html": [
              "<span style=\"color:cyan\"> |-classification_head_1/dropout_rate: 0</span>"
            ],
            "text/plain": [
              "<IPython.core.display.HTML object>"
            ]
          },
          "metadata": {
            "tags": []
          }
        },
        {
          "output_type": "display_data",
          "data": {
            "text/html": [
              "<span style=\"color:blue\"> |-dense_block_1/dropout_rate: 0</span>"
            ],
            "text/plain": [
              "<IPython.core.display.HTML object>"
            ]
          },
          "metadata": {
            "tags": []
          }
        },
        {
          "output_type": "display_data",
          "data": {
            "text/html": [
              "<span style=\"color:cyan\"> |-dense_block_1/num_layers: 2</span>"
            ],
            "text/plain": [
              "<IPython.core.display.HTML object>"
            ]
          },
          "metadata": {
            "tags": []
          }
        },
        {
          "output_type": "display_data",
          "data": {
            "text/html": [
              "<span style=\"color:blue\"> |-dense_block_1/units_0: 32</span>"
            ],
            "text/plain": [
              "<IPython.core.display.HTML object>"
            ]
          },
          "metadata": {
            "tags": []
          }
        },
        {
          "output_type": "display_data",
          "data": {
            "text/html": [
              "<span style=\"color:cyan\"> |-dense_block_1/units_1: 32</span>"
            ],
            "text/plain": [
              "<IPython.core.display.HTML object>"
            ]
          },
          "metadata": {
            "tags": []
          }
        },
        {
          "output_type": "display_data",
          "data": {
            "text/html": [
              "<span style=\"color:blue\"> |-dense_block_1/use_batchnorm: False</span>"
            ],
            "text/plain": [
              "<IPython.core.display.HTML object>"
            ]
          },
          "metadata": {
            "tags": []
          }
        },
        {
          "output_type": "display_data",
          "data": {
            "text/html": [
              "<span style=\"color:cyan\"> |-image_block_1/augment: True</span>"
            ],
            "text/plain": [
              "<IPython.core.display.HTML object>"
            ]
          },
          "metadata": {
            "tags": []
          }
        },
        {
          "output_type": "display_data",
          "data": {
            "text/html": [
              "<span style=\"color:blue\"> |-image_block_1/block_type: resnet</span>"
            ],
            "text/plain": [
              "<IPython.core.display.HTML object>"
            ]
          },
          "metadata": {
            "tags": []
          }
        },
        {
          "output_type": "display_data",
          "data": {
            "text/html": [
              "<span style=\"color:cyan\"> |-image_block_1/normalize: True</span>"
            ],
            "text/plain": [
              "<IPython.core.display.HTML object>"
            ]
          },
          "metadata": {
            "tags": []
          }
        },
        {
          "output_type": "display_data",
          "data": {
            "text/html": [
              "<span style=\"color:blue\"> |-image_block_1/res_net_block_1/conv3_depth: 4</span>"
            ],
            "text/plain": [
              "<IPython.core.display.HTML object>"
            ]
          },
          "metadata": {
            "tags": []
          }
        },
        {
          "output_type": "display_data",
          "data": {
            "text/html": [
              "<span style=\"color:cyan\"> |-image_block_1/res_net_block_1/conv4_depth: 6</span>"
            ],
            "text/plain": [
              "<IPython.core.display.HTML object>"
            ]
          },
          "metadata": {
            "tags": []
          }
        },
        {
          "output_type": "display_data",
          "data": {
            "text/html": [
              "<span style=\"color:blue\"> |-image_block_1/res_net_block_1/pooling: avg</span>"
            ],
            "text/plain": [
              "<IPython.core.display.HTML object>"
            ]
          },
          "metadata": {
            "tags": []
          }
        },
        {
          "output_type": "display_data",
          "data": {
            "text/html": [
              "<span style=\"color:cyan\"> |-image_block_1/res_net_block_1/version: v2</span>"
            ],
            "text/plain": [
              "<IPython.core.display.HTML object>"
            ]
          },
          "metadata": {
            "tags": []
          }
        },
        {
          "output_type": "display_data",
          "data": {
            "text/html": [
              "<span style=\"color:blue\"> |-image_block_1/res_net_block_2/conv3_depth: 4</span>"
            ],
            "text/plain": [
              "<IPython.core.display.HTML object>"
            ]
          },
          "metadata": {
            "tags": []
          }
        },
        {
          "output_type": "display_data",
          "data": {
            "text/html": [
              "<span style=\"color:cyan\"> |-image_block_1/res_net_block_2/conv4_depth: 6</span>"
            ],
            "text/plain": [
              "<IPython.core.display.HTML object>"
            ]
          },
          "metadata": {
            "tags": []
          }
        },
        {
          "output_type": "display_data",
          "data": {
            "text/html": [
              "<span style=\"color:blue\"> |-image_block_1/res_net_block_2/pooling: avg</span>"
            ],
            "text/plain": [
              "<IPython.core.display.HTML object>"
            ]
          },
          "metadata": {
            "tags": []
          }
        },
        {
          "output_type": "display_data",
          "data": {
            "text/html": [
              "<span style=\"color:cyan\"> |-image_block_1/res_net_block_2/version: v2</span>"
            ],
            "text/plain": [
              "<IPython.core.display.HTML object>"
            ]
          },
          "metadata": {
            "tags": []
          }
        },
        {
          "output_type": "display_data",
          "data": {
            "text/html": [
              "<span style=\"color:blue\"> |-image_block_1/resnet_1/conv3_depth: 4</span>"
            ],
            "text/plain": [
              "<IPython.core.display.HTML object>"
            ]
          },
          "metadata": {
            "tags": []
          }
        },
        {
          "output_type": "display_data",
          "data": {
            "text/html": [
              "<span style=\"color:cyan\"> |-image_block_1/resnet_1/conv4_depth: 6</span>"
            ],
            "text/plain": [
              "<IPython.core.display.HTML object>"
            ]
          },
          "metadata": {
            "tags": []
          }
        },
        {
          "output_type": "display_data",
          "data": {
            "text/html": [
              "<span style=\"color:blue\"> |-image_block_1/resnet_1/pooling: avg</span>"
            ],
            "text/plain": [
              "<IPython.core.display.HTML object>"
            ]
          },
          "metadata": {
            "tags": []
          }
        },
        {
          "output_type": "display_data",
          "data": {
            "text/html": [
              "<span style=\"color:cyan\"> |-image_block_1/resnet_1/version: v2</span>"
            ],
            "text/plain": [
              "<IPython.core.display.HTML object>"
            ]
          },
          "metadata": {
            "tags": []
          }
        },
        {
          "output_type": "display_data",
          "data": {
            "text/html": [
              "<span style=\"color:blue\"> |-optimizer: adam</span>"
            ],
            "text/plain": [
              "<IPython.core.display.HTML object>"
            ]
          },
          "metadata": {
            "tags": []
          }
        },
        {
          "output_type": "stream",
          "text": [
            "Train for 1500 steps, validate for 375 steps\n",
            "Epoch 1/1000\n",
            "1500/1500 [==============================] - 69s 46ms/step - loss: 0.2543 - accuracy: 0.9303 - val_loss: 0.0867 - val_accuracy: 0.9776\n",
            "Epoch 2/1000\n",
            "1500/1500 [==============================] - 63s 42ms/step - loss: 0.1243 - accuracy: 0.9678 - val_loss: 0.0657 - val_accuracy: 0.9806\n",
            "Epoch 3/1000\n",
            "1500/1500 [==============================] - 62s 42ms/step - loss: 0.1202 - accuracy: 0.9693 - val_loss: 0.0712 - val_accuracy: 0.9802\n",
            "Epoch 4/1000\n",
            "1500/1500 [==============================] - 63s 42ms/step - loss: 0.0790 - accuracy: 0.9790 - val_loss: 0.0958 - val_accuracy: 0.9753\n",
            "Epoch 5/1000\n",
            "1500/1500 [==============================] - 63s 42ms/step - loss: 0.0689 - accuracy: 0.9818 - val_loss: 0.1408 - val_accuracy: 0.9596\n",
            "Epoch 6/1000\n",
            "1500/1500 [==============================] - 63s 42ms/step - loss: 0.0511 - accuracy: 0.9855 - val_loss: 0.0662 - val_accuracy: 0.9823\n",
            "Epoch 7/1000\n",
            "1500/1500 [==============================] - 64s 43ms/step - loss: 0.0616 - accuracy: 0.9839 - val_loss: 0.0432 - val_accuracy: 0.9883\n",
            "Epoch 8/1000\n",
            "1500/1500 [==============================] - 63s 42ms/step - loss: 0.0359 - accuracy: 0.9894 - val_loss: 0.0629 - val_accuracy: 0.9843\n",
            "Epoch 9/1000\n",
            "1500/1500 [==============================] - 63s 42ms/step - loss: 0.0359 - accuracy: 0.9895 - val_loss: 0.0674 - val_accuracy: 0.9822\n",
            "Epoch 10/1000\n",
            "1500/1500 [==============================] - 63s 42ms/step - loss: 0.0271 - accuracy: 0.9915 - val_loss: 0.0655 - val_accuracy: 0.9827\n",
            "Epoch 11/1000\n",
            "1500/1500 [==============================] - 63s 42ms/step - loss: 0.0274 - accuracy: 0.9918 - val_loss: 0.0551 - val_accuracy: 0.9873\n",
            "Epoch 12/1000\n",
            "1500/1500 [==============================] - 64s 43ms/step - loss: 0.0280 - accuracy: 0.9922 - val_loss: 0.0428 - val_accuracy: 0.9890\n",
            "Epoch 13/1000\n",
            "1500/1500 [==============================] - 63s 42ms/step - loss: 0.0184 - accuracy: 0.9943 - val_loss: 0.0468 - val_accuracy: 0.9891\n",
            "Epoch 14/1000\n",
            "1500/1500 [==============================] - 63s 42ms/step - loss: 0.0181 - accuracy: 0.9946 - val_loss: 0.0569 - val_accuracy: 0.9864\n",
            "Epoch 15/1000\n",
            "1500/1500 [==============================] - 64s 43ms/step - loss: 0.0140 - accuracy: 0.9957 - val_loss: 0.0382 - val_accuracy: 0.9920\n",
            "Epoch 16/1000\n",
            "1500/1500 [==============================] - 63s 42ms/step - loss: 0.0155 - accuracy: 0.9954 - val_loss: 0.0444 - val_accuracy: 0.9900\n",
            "Epoch 17/1000\n",
            "1500/1500 [==============================] - 63s 42ms/step - loss: 0.0154 - accuracy: 0.9954 - val_loss: 0.0591 - val_accuracy: 0.9877\n",
            "Epoch 18/1000\n",
            "1500/1500 [==============================] - 63s 42ms/step - loss: 0.0123 - accuracy: 0.9965 - val_loss: 0.0850 - val_accuracy: 0.9813\n",
            "Epoch 19/1000\n",
            "1500/1500 [==============================] - 63s 42ms/step - loss: 0.0104 - accuracy: 0.9968 - val_loss: 0.0462 - val_accuracy: 0.9898\n",
            "Epoch 20/1000\n",
            "1500/1500 [==============================] - 63s 42ms/step - loss: 0.0125 - accuracy: 0.9966 - val_loss: 0.0860 - val_accuracy: 0.9833\n",
            "Epoch 21/1000\n",
            "1500/1500 [==============================] - 63s 42ms/step - loss: 0.0095 - accuracy: 0.9972 - val_loss: 0.0444 - val_accuracy: 0.9913\n",
            "Epoch 22/1000\n",
            "1500/1500 [==============================] - 63s 42ms/step - loss: 0.0102 - accuracy: 0.9973 - val_loss: 0.0820 - val_accuracy: 0.9833\n",
            "Epoch 23/1000\n",
            "1500/1500 [==============================] - 64s 43ms/step - loss: 0.0089 - accuracy: 0.9976 - val_loss: 0.0649 - val_accuracy: 0.9870\n",
            "Epoch 24/1000\n",
            "1500/1500 [==============================] - 64s 43ms/step - loss: 0.0071 - accuracy: 0.9979 - val_loss: 0.0475 - val_accuracy: 0.9918\n",
            "Epoch 25/1000\n",
            "1500/1500 [==============================] - 65s 43ms/step - loss: 0.0099 - accuracy: 0.9972 - val_loss: 0.0513 - val_accuracy: 0.9897\n"
          ],
          "name": "stdout"
        },
        {
          "output_type": "display_data",
          "data": {
            "text/html": [
              "<span style=\"color:#4527A0\"><h1 style=\"font-size:18px\">Trial complete</h1></span>"
            ],
            "text/plain": [
              "<IPython.core.display.HTML object>"
            ]
          },
          "metadata": {
            "tags": []
          }
        },
        {
          "output_type": "display_data",
          "data": {
            "text/html": [
              "<span style=\"color:#4527A0\"><h1 style=\"font-size:18px\">Trial summary</h1></span>"
            ],
            "text/plain": [
              "<IPython.core.display.HTML object>"
            ]
          },
          "metadata": {
            "tags": []
          }
        },
        {
          "output_type": "display_data",
          "data": {
            "text/html": [
              "<span style=\"color:cyan\"> |-Trial ID: 0eab60f32fc997ec1ef188c9fdf411ca</span>"
            ],
            "text/plain": [
              "<IPython.core.display.HTML object>"
            ]
          },
          "metadata": {
            "tags": []
          }
        },
        {
          "output_type": "display_data",
          "data": {
            "text/html": [
              "<span style=\"color:cyan\"> |-Score: 0.038240611949861586</span>"
            ],
            "text/plain": [
              "<IPython.core.display.HTML object>"
            ]
          },
          "metadata": {
            "tags": []
          }
        },
        {
          "output_type": "display_data",
          "data": {
            "text/html": [
              "<span style=\"color:cyan\"> |-Best step: 0</span>"
            ],
            "text/plain": [
              "<IPython.core.display.HTML object>"
            ]
          },
          "metadata": {
            "tags": []
          }
        },
        {
          "output_type": "display_data",
          "data": {
            "text/html": [
              "<span style=\"color:#7E57C2\"><h2 style=\"font-size:16px\">Hyperparameters:</h2></span>"
            ],
            "text/plain": [
              "<IPython.core.display.HTML object>"
            ]
          },
          "metadata": {
            "tags": []
          }
        },
        {
          "output_type": "display_data",
          "data": {
            "text/html": [
              "<span style=\"color:cyan\"> |-classification_head_1/dropout_rate: 0</span>"
            ],
            "text/plain": [
              "<IPython.core.display.HTML object>"
            ]
          },
          "metadata": {
            "tags": []
          }
        },
        {
          "output_type": "display_data",
          "data": {
            "text/html": [
              "<span style=\"color:blue\"> |-dense_block_1/dropout_rate: 0</span>"
            ],
            "text/plain": [
              "<IPython.core.display.HTML object>"
            ]
          },
          "metadata": {
            "tags": []
          }
        },
        {
          "output_type": "display_data",
          "data": {
            "text/html": [
              "<span style=\"color:cyan\"> |-dense_block_1/num_layers: 2</span>"
            ],
            "text/plain": [
              "<IPython.core.display.HTML object>"
            ]
          },
          "metadata": {
            "tags": []
          }
        },
        {
          "output_type": "display_data",
          "data": {
            "text/html": [
              "<span style=\"color:blue\"> |-dense_block_1/units_0: 32</span>"
            ],
            "text/plain": [
              "<IPython.core.display.HTML object>"
            ]
          },
          "metadata": {
            "tags": []
          }
        },
        {
          "output_type": "display_data",
          "data": {
            "text/html": [
              "<span style=\"color:cyan\"> |-dense_block_1/units_1: 32</span>"
            ],
            "text/plain": [
              "<IPython.core.display.HTML object>"
            ]
          },
          "metadata": {
            "tags": []
          }
        },
        {
          "output_type": "display_data",
          "data": {
            "text/html": [
              "<span style=\"color:blue\"> |-dense_block_1/use_batchnorm: False</span>"
            ],
            "text/plain": [
              "<IPython.core.display.HTML object>"
            ]
          },
          "metadata": {
            "tags": []
          }
        },
        {
          "output_type": "display_data",
          "data": {
            "text/html": [
              "<span style=\"color:cyan\"> |-image_block_1/augment: True</span>"
            ],
            "text/plain": [
              "<IPython.core.display.HTML object>"
            ]
          },
          "metadata": {
            "tags": []
          }
        },
        {
          "output_type": "display_data",
          "data": {
            "text/html": [
              "<span style=\"color:blue\"> |-image_block_1/block_type: resnet</span>"
            ],
            "text/plain": [
              "<IPython.core.display.HTML object>"
            ]
          },
          "metadata": {
            "tags": []
          }
        },
        {
          "output_type": "display_data",
          "data": {
            "text/html": [
              "<span style=\"color:cyan\"> |-image_block_1/normalize: True</span>"
            ],
            "text/plain": [
              "<IPython.core.display.HTML object>"
            ]
          },
          "metadata": {
            "tags": []
          }
        },
        {
          "output_type": "display_data",
          "data": {
            "text/html": [
              "<span style=\"color:blue\"> |-image_block_1/res_net_block_1/conv3_depth: 4</span>"
            ],
            "text/plain": [
              "<IPython.core.display.HTML object>"
            ]
          },
          "metadata": {
            "tags": []
          }
        },
        {
          "output_type": "display_data",
          "data": {
            "text/html": [
              "<span style=\"color:cyan\"> |-image_block_1/res_net_block_1/conv4_depth: 6</span>"
            ],
            "text/plain": [
              "<IPython.core.display.HTML object>"
            ]
          },
          "metadata": {
            "tags": []
          }
        },
        {
          "output_type": "display_data",
          "data": {
            "text/html": [
              "<span style=\"color:blue\"> |-image_block_1/res_net_block_1/pooling: avg</span>"
            ],
            "text/plain": [
              "<IPython.core.display.HTML object>"
            ]
          },
          "metadata": {
            "tags": []
          }
        },
        {
          "output_type": "display_data",
          "data": {
            "text/html": [
              "<span style=\"color:cyan\"> |-image_block_1/res_net_block_1/version: v2</span>"
            ],
            "text/plain": [
              "<IPython.core.display.HTML object>"
            ]
          },
          "metadata": {
            "tags": []
          }
        },
        {
          "output_type": "display_data",
          "data": {
            "text/html": [
              "<span style=\"color:blue\"> |-image_block_1/res_net_block_2/conv3_depth: 4</span>"
            ],
            "text/plain": [
              "<IPython.core.display.HTML object>"
            ]
          },
          "metadata": {
            "tags": []
          }
        },
        {
          "output_type": "display_data",
          "data": {
            "text/html": [
              "<span style=\"color:cyan\"> |-image_block_1/res_net_block_2/conv4_depth: 6</span>"
            ],
            "text/plain": [
              "<IPython.core.display.HTML object>"
            ]
          },
          "metadata": {
            "tags": []
          }
        },
        {
          "output_type": "display_data",
          "data": {
            "text/html": [
              "<span style=\"color:blue\"> |-image_block_1/res_net_block_2/pooling: avg</span>"
            ],
            "text/plain": [
              "<IPython.core.display.HTML object>"
            ]
          },
          "metadata": {
            "tags": []
          }
        },
        {
          "output_type": "display_data",
          "data": {
            "text/html": [
              "<span style=\"color:cyan\"> |-image_block_1/res_net_block_2/version: v2</span>"
            ],
            "text/plain": [
              "<IPython.core.display.HTML object>"
            ]
          },
          "metadata": {
            "tags": []
          }
        },
        {
          "output_type": "display_data",
          "data": {
            "text/html": [
              "<span style=\"color:blue\"> |-image_block_1/resnet_1/conv3_depth: 4</span>"
            ],
            "text/plain": [
              "<IPython.core.display.HTML object>"
            ]
          },
          "metadata": {
            "tags": []
          }
        },
        {
          "output_type": "display_data",
          "data": {
            "text/html": [
              "<span style=\"color:cyan\"> |-image_block_1/resnet_1/conv4_depth: 6</span>"
            ],
            "text/plain": [
              "<IPython.core.display.HTML object>"
            ]
          },
          "metadata": {
            "tags": []
          }
        },
        {
          "output_type": "display_data",
          "data": {
            "text/html": [
              "<span style=\"color:blue\"> |-image_block_1/resnet_1/pooling: avg</span>"
            ],
            "text/plain": [
              "<IPython.core.display.HTML object>"
            ]
          },
          "metadata": {
            "tags": []
          }
        },
        {
          "output_type": "display_data",
          "data": {
            "text/html": [
              "<span style=\"color:cyan\"> |-image_block_1/resnet_1/version: v2</span>"
            ],
            "text/plain": [
              "<IPython.core.display.HTML object>"
            ]
          },
          "metadata": {
            "tags": []
          }
        },
        {
          "output_type": "display_data",
          "data": {
            "text/html": [
              "<span style=\"color:blue\"> |-optimizer: adam</span>"
            ],
            "text/plain": [
              "<IPython.core.display.HTML object>"
            ]
          },
          "metadata": {
            "tags": []
          }
        },
        {
          "output_type": "stream",
          "text": [
            "INFO:tensorflow:Oracle triggered exit\n",
            "Train for 1875 steps, validate for 375 steps\n",
            "Epoch 1/1000\n",
            "1875/1875 [==============================] - 84s 45ms/step - loss: 2.3015 - accuracy: 0.1122 - val_loss: 2.3016 - val_accuracy: 0.1060\n",
            "Epoch 2/1000\n",
            "1875/1875 [==============================] - 78s 42ms/step - loss: 2.3013 - accuracy: 0.1124 - val_loss: 2.3016 - val_accuracy: 0.1060\n",
            "Epoch 3/1000\n",
            "1875/1875 [==============================] - 78s 42ms/step - loss: 2.3013 - accuracy: 0.1124 - val_loss: 2.3016 - val_accuracy: 0.1060\n",
            "Epoch 4/1000\n",
            "1875/1875 [==============================] - 79s 42ms/step - loss: 2.3013 - accuracy: 0.1124 - val_loss: 2.3016 - val_accuracy: 0.1060\n",
            "Epoch 5/1000\n",
            "1875/1875 [==============================] - 78s 42ms/step - loss: 2.3013 - accuracy: 0.1124 - val_loss: 2.3016 - val_accuracy: 0.1060\n",
            "Epoch 6/1000\n",
            "1875/1875 [==============================] - 78s 42ms/step - loss: 2.3013 - accuracy: 0.1124 - val_loss: 2.3016 - val_accuracy: 0.1060\n",
            "Epoch 7/1000\n",
            "1875/1875 [==============================] - 78s 42ms/step - loss: 2.3013 - accuracy: 0.1124 - val_loss: 2.3016 - val_accuracy: 0.1060\n",
            "Epoch 8/1000\n",
            "1875/1875 [==============================] - 79s 42ms/step - loss: 2.3013 - accuracy: 0.1124 - val_loss: 2.3016 - val_accuracy: 0.1060\n",
            "Epoch 9/1000\n",
            "1875/1875 [==============================] - 78s 42ms/step - loss: 2.3013 - accuracy: 0.1124 - val_loss: 2.3016 - val_accuracy: 0.1060\n",
            "Epoch 10/1000\n",
            "1875/1875 [==============================] - 79s 42ms/step - loss: 2.3013 - accuracy: 0.1124 - val_loss: 2.3016 - val_accuracy: 0.1060\n",
            "Epoch 11/1000\n",
            "1875/1875 [==============================] - 78s 42ms/step - loss: 2.3013 - accuracy: 0.1124 - val_loss: 2.3016 - val_accuracy: 0.1060\n",
            "WARNING:tensorflow:Unresolved object in checkpoint: (root).optimizer.iter\n",
            "WARNING:tensorflow:Unresolved object in checkpoint: (root).optimizer.beta_1\n",
            "WARNING:tensorflow:Unresolved object in checkpoint: (root).optimizer.beta_2\n",
            "WARNING:tensorflow:Unresolved object in checkpoint: (root).optimizer.decay\n",
            "WARNING:tensorflow:Unresolved object in checkpoint: (root).optimizer.learning_rate\n",
            "WARNING:tensorflow:A checkpoint was restored (e.g. tf.train.Checkpoint.restore or tf.keras.Model.load_weights) but not all checkpointed values were used. See above for specific issues. Use expect_partial() on the load status object, e.g. tf.train.Checkpoint.restore(...).expect_partial(), to silence these warnings, or use assert_consumed() to make the check explicit. See https://www.tensorflow.org/guide/checkpoint#loading_mechanics for details.\n",
            "WARNING:tensorflow:Unresolved object in checkpoint: (root).optimizer.iter\n",
            "WARNING:tensorflow:Unresolved object in checkpoint: (root).optimizer.beta_1\n",
            "WARNING:tensorflow:Unresolved object in checkpoint: (root).optimizer.beta_2\n",
            "WARNING:tensorflow:Unresolved object in checkpoint: (root).optimizer.decay\n",
            "WARNING:tensorflow:Unresolved object in checkpoint: (root).optimizer.learning_rate\n",
            "WARNING:tensorflow:A checkpoint was restored (e.g. tf.train.Checkpoint.restore or tf.keras.Model.load_weights) but not all checkpointed values were used. See above for specific issues. Use expect_partial() on the load status object, e.g. tf.train.Checkpoint.restore(...).expect_partial(), to silence these warnings, or use assert_consumed() to make the check explicit. See https://www.tensorflow.org/guide/checkpoint#loading_mechanics for details.\n",
            "313/313 [==============================] - 5s 15ms/step - loss: 2.3012 - accuracy: 0.1135\n",
            "[2.301162937578683, 0.1135]\n"
          ],
          "name": "stdout"
        }
      ]
    },
    {
      "cell_type": "code",
      "metadata": {
        "id": "AEwSz2wb2gCs",
        "colab_type": "code",
        "outputId": "f8e40f6d-b040-49b8-aa2e-a52bd39ced93",
        "colab": {
          "base_uri": "https://localhost:8080/",
          "height": 1000
        }
      },
      "source": [
        "# 코드 5-36 AutoKeras를 활용한 신경망 아키텍처 탐색\n",
        "\n",
        "import autokeras as ak\n",
        "from tensorflow.keras.datasets import mnist\n",
        "\n",
        "(x_train, y_train), (x_test, y_test) = mnist.load_data()\n",
        "\n",
        "input_node = ak.ImageInput()\n",
        "output_node = ak.ImageBlock(block_type='resnet',\n",
        "normalize=True, augment=False)(input_node)\n",
        "output_node = ak.ClassificationHead()(output_node)\n",
        "clf = ak.AutoModel(inputs=input_node, outputs=output_node, \n",
        "max_trials=1)\n",
        "clf.fit(x_train, y_train)"
      ],
      "execution_count": 0,
      "outputs": [
        {
          "output_type": "stream",
          "text": [
            "INFO:tensorflow:Reloading Oracle from existing project ./auto_model/oracle.json\n",
            "INFO:tensorflow:Reloading Tuner from ./auto_model/tuner0.json\n",
            "Train for 1500 steps, validate for 375 steps\n",
            "Epoch 1/1000\n",
            "1500/1500 [==============================] - 91s 61ms/step - loss: 0.6656 - accuracy: 0.8255 - val_loss: 0.2128 - val_accuracy: 0.9348\n",
            "Epoch 2/1000\n",
            "1500/1500 [==============================] - 76s 51ms/step - loss: 0.3242 - accuracy: 0.9198 - val_loss: 0.1813 - val_accuracy: 0.9458\n",
            "Epoch 3/1000\n",
            "1500/1500 [==============================] - 77s 51ms/step - loss: 0.4225 - accuracy: 0.9075 - val_loss: 0.1442 - val_accuracy: 0.9565\n",
            "Epoch 4/1000\n",
            "1500/1500 [==============================] - 76s 51ms/step - loss: 0.4338 - accuracy: 0.8956 - val_loss: 2.8071 - val_accuracy: 0.9207\n",
            "Epoch 5/1000\n",
            "1500/1500 [==============================] - 75s 50ms/step - loss: 0.3538 - accuracy: 0.9062 - val_loss: 0.2623 - val_accuracy: 0.9056\n",
            "Epoch 6/1000\n",
            "1500/1500 [==============================] - 76s 51ms/step - loss: 0.1803 - accuracy: 0.9504 - val_loss: 0.1041 - val_accuracy: 0.9702\n",
            "Epoch 7/1000\n",
            "1500/1500 [==============================] - 76s 51ms/step - loss: 0.1803 - accuracy: 0.9584 - val_loss: 0.6228 - val_accuracy: 0.9505\n",
            "Epoch 8/1000\n",
            "1500/1500 [==============================] - 76s 51ms/step - loss: 0.2743 - accuracy: 0.9316 - val_loss: 0.1052 - val_accuracy: 0.9667\n",
            "Epoch 9/1000\n",
            "1500/1500 [==============================] - 76s 51ms/step - loss: 0.1378 - accuracy: 0.9664 - val_loss: 0.1688 - val_accuracy: 0.9491\n",
            "Epoch 10/1000\n",
            "1500/1500 [==============================] - 76s 50ms/step - loss: 0.3300 - accuracy: 0.9178 - val_loss: 0.1217 - val_accuracy: 0.9605\n",
            "Epoch 11/1000\n",
            "1500/1500 [==============================] - 76s 51ms/step - loss: 0.2174 - accuracy: 0.9469 - val_loss: 0.2719 - val_accuracy: 0.9271\n",
            "Epoch 12/1000\n",
            "1500/1500 [==============================] - 76s 51ms/step - loss: 0.1424 - accuracy: 0.9610 - val_loss: 0.1150 - val_accuracy: 0.9648\n",
            "Epoch 13/1000\n",
            "1500/1500 [==============================] - 76s 51ms/step - loss: 0.0958 - accuracy: 0.9746 - val_loss: 0.0903 - val_accuracy: 0.9717\n",
            "Epoch 14/1000\n",
            "1500/1500 [==============================] - 76s 51ms/step - loss: 0.1330 - accuracy: 0.9669 - val_loss: 0.0703 - val_accuracy: 0.9768\n",
            "Epoch 15/1000\n",
            "1500/1500 [==============================] - 76s 50ms/step - loss: 0.0854 - accuracy: 0.9768 - val_loss: 0.0786 - val_accuracy: 0.9783\n",
            "Epoch 16/1000\n",
            "1500/1500 [==============================] - 75s 50ms/step - loss: 0.1018 - accuracy: 0.9767 - val_loss: 0.1296 - val_accuracy: 0.9603\n",
            "Epoch 17/1000\n",
            "1500/1500 [==============================] - 75s 50ms/step - loss: 0.0610 - accuracy: 0.9830 - val_loss: 0.0807 - val_accuracy: 0.9762\n",
            "Epoch 18/1000\n",
            "1500/1500 [==============================] - 75s 50ms/step - loss: 0.0416 - accuracy: 0.9879 - val_loss: 0.1256 - val_accuracy: 0.9620\n",
            "Epoch 19/1000\n",
            "1500/1500 [==============================] - 75s 50ms/step - loss: 0.0721 - accuracy: 0.9823 - val_loss: 0.0801 - val_accuracy: 0.9744\n",
            "Epoch 20/1000\n",
            "1500/1500 [==============================] - 76s 51ms/step - loss: 0.0356 - accuracy: 0.9901 - val_loss: 0.0541 - val_accuracy: 0.9855\n",
            "Epoch 21/1000\n",
            "1500/1500 [==============================] - 76s 51ms/step - loss: 0.0410 - accuracy: 0.9883 - val_loss: 0.0538 - val_accuracy: 0.9837\n",
            "Epoch 22/1000\n",
            "1500/1500 [==============================] - 75s 50ms/step - loss: 0.0398 - accuracy: 0.9899 - val_loss: 0.0678 - val_accuracy: 0.9798\n",
            "Epoch 23/1000\n",
            "1500/1500 [==============================] - 76s 51ms/step - loss: 0.0414 - accuracy: 0.9894 - val_loss: 0.0459 - val_accuracy: 0.9862\n",
            "Epoch 24/1000\n",
            "1500/1500 [==============================] - 76s 50ms/step - loss: 0.0467 - accuracy: 0.9880 - val_loss: 0.0468 - val_accuracy: 0.9866\n",
            "Epoch 25/1000\n",
            "1500/1500 [==============================] - 76s 51ms/step - loss: 0.0335 - accuracy: 0.9902 - val_loss: 0.0499 - val_accuracy: 0.9862\n",
            "Epoch 26/1000\n",
            "1500/1500 [==============================] - 75s 50ms/step - loss: 0.0327 - accuracy: 0.9915 - val_loss: 0.0481 - val_accuracy: 0.9867\n",
            "Epoch 27/1000\n",
            "1500/1500 [==============================] - 76s 51ms/step - loss: 0.0211 - accuracy: 0.9939 - val_loss: 0.0463 - val_accuracy: 0.9869\n",
            "Epoch 28/1000\n",
            "1500/1500 [==============================] - 75s 50ms/step - loss: 0.0288 - accuracy: 0.9926 - val_loss: 0.0964 - val_accuracy: 0.9772\n",
            "Epoch 29/1000\n",
            "1500/1500 [==============================] - 76s 50ms/step - loss: 0.0348 - accuracy: 0.9910 - val_loss: 0.0648 - val_accuracy: 0.9836\n",
            "Epoch 30/1000\n",
            "1500/1500 [==============================] - 76s 50ms/step - loss: 0.0185 - accuracy: 0.9948 - val_loss: 0.0634 - val_accuracy: 0.9839\n",
            "Epoch 31/1000\n",
            "1500/1500 [==============================] - 76s 50ms/step - loss: 0.0160 - accuracy: 0.9947 - val_loss: 0.0543 - val_accuracy: 0.9856\n",
            "Epoch 32/1000\n",
            "1500/1500 [==============================] - 75s 50ms/step - loss: 0.0343 - accuracy: 0.9908 - val_loss: 0.0628 - val_accuracy: 0.9836\n",
            "Epoch 33/1000\n",
            "1500/1500 [==============================] - 77s 51ms/step - loss: 0.0160 - accuracy: 0.9946 - val_loss: 0.0457 - val_accuracy: 0.9876\n",
            "Epoch 34/1000\n",
            "1500/1500 [==============================] - 76s 51ms/step - loss: 0.0097 - accuracy: 0.9965 - val_loss: 0.0562 - val_accuracy: 0.9847\n",
            "Epoch 35/1000\n",
            "1500/1500 [==============================] - 75s 50ms/step - loss: 0.0118 - accuracy: 0.9964 - val_loss: 0.0475 - val_accuracy: 0.9877\n",
            "Epoch 36/1000\n",
            "1500/1500 [==============================] - 75s 50ms/step - loss: 0.0174 - accuracy: 0.9950 - val_loss: 0.0710 - val_accuracy: 0.9818\n",
            "Epoch 37/1000\n",
            "1500/1500 [==============================] - 75s 50ms/step - loss: 0.0139 - accuracy: 0.9959 - val_loss: 0.0500 - val_accuracy: 0.9868\n",
            "Epoch 38/1000\n",
            "1500/1500 [==============================] - 76s 50ms/step - loss: 0.0144 - accuracy: 0.9959 - val_loss: 0.0480 - val_accuracy: 0.9890\n",
            "Epoch 39/1000\n",
            "1500/1500 [==============================] - 77s 51ms/step - loss: 0.0089 - accuracy: 0.9975 - val_loss: 0.0421 - val_accuracy: 0.9893\n",
            "Epoch 40/1000\n",
            "1500/1500 [==============================] - 77s 51ms/step - loss: 0.0108 - accuracy: 0.9967 - val_loss: 0.0544 - val_accuracy: 0.9877\n",
            "Epoch 41/1000\n",
            "1500/1500 [==============================] - 76s 51ms/step - loss: 0.0078 - accuracy: 0.9976 - val_loss: 0.0710 - val_accuracy: 0.9838\n",
            "Epoch 42/1000\n",
            "1500/1500 [==============================] - 76s 51ms/step - loss: 0.0095 - accuracy: 0.9971 - val_loss: 0.0498 - val_accuracy: 0.9891\n",
            "Epoch 43/1000\n",
            "1500/1500 [==============================] - 76s 51ms/step - loss: 0.0065 - accuracy: 0.9978 - val_loss: 0.0513 - val_accuracy: 0.9884\n",
            "Epoch 44/1000\n",
            "1500/1500 [==============================] - 76s 51ms/step - loss: 0.0095 - accuracy: 0.9968 - val_loss: 0.0504 - val_accuracy: 0.9891\n",
            "Epoch 45/1000\n",
            "1500/1500 [==============================] - 76s 51ms/step - loss: 0.0091 - accuracy: 0.9972 - val_loss: 0.0596 - val_accuracy: 0.9877\n",
            "Epoch 46/1000\n",
            "1500/1500 [==============================] - 76s 50ms/step - loss: 0.0069 - accuracy: 0.9977 - val_loss: 0.0686 - val_accuracy: 0.9846\n",
            "Epoch 47/1000\n",
            "1500/1500 [==============================] - 75s 50ms/step - loss: 0.0063 - accuracy: 0.9981 - val_loss: 0.0547 - val_accuracy: 0.9879\n",
            "Epoch 48/1000\n",
            "1500/1500 [==============================] - 76s 50ms/step - loss: 0.0077 - accuracy: 0.9976 - val_loss: 0.0733 - val_accuracy: 0.9872\n",
            "Epoch 49/1000\n",
            "1500/1500 [==============================] - 76s 50ms/step - loss: 0.0072 - accuracy: 0.9977 - val_loss: 0.0534 - val_accuracy: 0.9900\n"
          ],
          "name": "stdout"
        },
        {
          "output_type": "display_data",
          "data": {
            "text/html": [
              "<span style=\"color:#4527A0\"><h1 style=\"font-size:18px\">Trial complete</h1></span>"
            ],
            "text/plain": [
              "<IPython.core.display.HTML object>"
            ]
          },
          "metadata": {
            "tags": []
          }
        },
        {
          "output_type": "display_data",
          "data": {
            "text/html": [
              "<span style=\"color:#4527A0\"><h1 style=\"font-size:18px\">Trial summary</h1></span>"
            ],
            "text/plain": [
              "<IPython.core.display.HTML object>"
            ]
          },
          "metadata": {
            "tags": []
          }
        },
        {
          "output_type": "display_data",
          "data": {
            "text/html": [
              "<span style=\"color:cyan\"> |-Trial ID: 2566a5fa0d776a78cb751dd6e4266e32</span>"
            ],
            "text/plain": [
              "<IPython.core.display.HTML object>"
            ]
          },
          "metadata": {
            "tags": []
          }
        },
        {
          "output_type": "display_data",
          "data": {
            "text/html": [
              "<span style=\"color:cyan\"> |-Score: 0.042086141837637474</span>"
            ],
            "text/plain": [
              "<IPython.core.display.HTML object>"
            ]
          },
          "metadata": {
            "tags": []
          }
        },
        {
          "output_type": "display_data",
          "data": {
            "text/html": [
              "<span style=\"color:cyan\"> |-Best step: 0</span>"
            ],
            "text/plain": [
              "<IPython.core.display.HTML object>"
            ]
          },
          "metadata": {
            "tags": []
          }
        },
        {
          "output_type": "display_data",
          "data": {
            "text/html": [
              "<span style=\"color:#7E57C2\"><h2 style=\"font-size:16px\">Hyperparameters:</h2></span>"
            ],
            "text/plain": [
              "<IPython.core.display.HTML object>"
            ]
          },
          "metadata": {
            "tags": []
          }
        },
        {
          "output_type": "display_data",
          "data": {
            "text/html": [
              "<span style=\"color:cyan\"> |-classification_head_1/dropout_rate: 0</span>"
            ],
            "text/plain": [
              "<IPython.core.display.HTML object>"
            ]
          },
          "metadata": {
            "tags": []
          }
        },
        {
          "output_type": "display_data",
          "data": {
            "text/html": [
              "<span style=\"color:blue\"> |-image_block_1/res_net_block_1/conv3_depth: 8</span>"
            ],
            "text/plain": [
              "<IPython.core.display.HTML object>"
            ]
          },
          "metadata": {
            "tags": []
          }
        },
        {
          "output_type": "display_data",
          "data": {
            "text/html": [
              "<span style=\"color:cyan\"> |-image_block_1/res_net_block_1/conv4_depth: 6</span>"
            ],
            "text/plain": [
              "<IPython.core.display.HTML object>"
            ]
          },
          "metadata": {
            "tags": []
          }
        },
        {
          "output_type": "display_data",
          "data": {
            "text/html": [
              "<span style=\"color:blue\"> |-image_block_1/res_net_block_1/pooling: max</span>"
            ],
            "text/plain": [
              "<IPython.core.display.HTML object>"
            ]
          },
          "metadata": {
            "tags": []
          }
        },
        {
          "output_type": "display_data",
          "data": {
            "text/html": [
              "<span style=\"color:cyan\"> |-image_block_1/res_net_block_1/version: next</span>"
            ],
            "text/plain": [
              "<IPython.core.display.HTML object>"
            ]
          },
          "metadata": {
            "tags": []
          }
        },
        {
          "output_type": "display_data",
          "data": {
            "text/html": [
              "<span style=\"color:blue\"> |-image_block_1/res_net_block_2/conv3_depth: 4</span>"
            ],
            "text/plain": [
              "<IPython.core.display.HTML object>"
            ]
          },
          "metadata": {
            "tags": []
          }
        },
        {
          "output_type": "display_data",
          "data": {
            "text/html": [
              "<span style=\"color:cyan\"> |-image_block_1/res_net_block_2/conv4_depth: 23</span>"
            ],
            "text/plain": [
              "<IPython.core.display.HTML object>"
            ]
          },
          "metadata": {
            "tags": []
          }
        },
        {
          "output_type": "display_data",
          "data": {
            "text/html": [
              "<span style=\"color:blue\"> |-image_block_1/res_net_block_2/pooling: max</span>"
            ],
            "text/plain": [
              "<IPython.core.display.HTML object>"
            ]
          },
          "metadata": {
            "tags": []
          }
        },
        {
          "output_type": "display_data",
          "data": {
            "text/html": [
              "<span style=\"color:cyan\"> |-image_block_1/res_net_block_2/version: v1</span>"
            ],
            "text/plain": [
              "<IPython.core.display.HTML object>"
            ]
          },
          "metadata": {
            "tags": []
          }
        },
        {
          "output_type": "display_data",
          "data": {
            "text/html": [
              "<span style=\"color:blue\"> |-optimizer: adam</span>"
            ],
            "text/plain": [
              "<IPython.core.display.HTML object>"
            ]
          },
          "metadata": {
            "tags": []
          }
        },
        {
          "output_type": "stream",
          "text": [
            "INFO:tensorflow:Oracle triggered exit\n",
            "Train for 1875 steps, validate for 375 steps\n",
            "Epoch 1/1000\n",
            "1875/1875 [==============================] - 106s 57ms/step - loss: 2.3015 - accuracy: 0.1122 - val_loss: 2.3016 - val_accuracy: 0.1060\n",
            "Epoch 2/1000\n",
            "1875/1875 [==============================] - 93s 50ms/step - loss: 2.3013 - accuracy: 0.1124 - val_loss: 2.3016 - val_accuracy: 0.1060\n",
            "Epoch 3/1000\n",
            "1875/1875 [==============================] - 93s 50ms/step - loss: 2.3013 - accuracy: 0.1124 - val_loss: 2.3016 - val_accuracy: 0.1060\n",
            "Epoch 4/1000\n",
            "1875/1875 [==============================] - 92s 49ms/step - loss: 2.3013 - accuracy: 0.1124 - val_loss: 2.3016 - val_accuracy: 0.1060\n",
            "Epoch 5/1000\n",
            "1875/1875 [==============================] - 93s 49ms/step - loss: 2.3013 - accuracy: 0.1124 - val_loss: 2.3016 - val_accuracy: 0.1060\n",
            "Epoch 6/1000\n",
            "1875/1875 [==============================] - 93s 49ms/step - loss: 2.3013 - accuracy: 0.1124 - val_loss: 2.3016 - val_accuracy: 0.1060\n",
            "Epoch 7/1000\n",
            "1875/1875 [==============================] - 92s 49ms/step - loss: 2.3013 - accuracy: 0.1124 - val_loss: 2.3016 - val_accuracy: 0.1060\n",
            "Epoch 8/1000\n",
            "1875/1875 [==============================] - 93s 49ms/step - loss: 2.3013 - accuracy: 0.1124 - val_loss: 2.3016 - val_accuracy: 0.1060\n",
            "Epoch 9/1000\n",
            "1875/1875 [==============================] - 93s 50ms/step - loss: 2.3013 - accuracy: 0.1124 - val_loss: 2.3016 - val_accuracy: 0.1060\n",
            "Epoch 10/1000\n",
            "1875/1875 [==============================] - 93s 49ms/step - loss: 2.3013 - accuracy: 0.1124 - val_loss: 2.3016 - val_accuracy: 0.1060\n",
            "Epoch 11/1000\n",
            "1875/1875 [==============================] - 92s 49ms/step - loss: 2.3013 - accuracy: 0.1124 - val_loss: 2.3016 - val_accuracy: 0.1060\n"
          ],
          "name": "stdout"
        }
      ]
    }
  ]
}