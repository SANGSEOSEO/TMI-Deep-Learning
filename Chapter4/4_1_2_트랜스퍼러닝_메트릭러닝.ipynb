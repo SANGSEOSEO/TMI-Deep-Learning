{
  "nbformat": 4,
  "nbformat_minor": 0,
  "metadata": {
    "colab": {
      "name": "4_1_2_트랜스퍼러닝_메트릭러닝.ipynb",
      "provenance": [],
      "collapsed_sections": [],
      "toc_visible": true,
      "machine_shape": "hm"
    },
    "kernelspec": {
      "name": "python3",
      "display_name": "Python 3"
    },
    "accelerator": "GPU"
  },
  "cells": [
    {
      "cell_type": "markdown",
      "metadata": {
        "id": "OpBd_VwTg-bu",
        "colab_type": "text"
      },
      "source": [
        "# 4.1 트랜스퍼러닝(이어서)\n",
        "- 작성자: [김찬란](https://github.com/seriousran)"
      ]
    },
    {
      "cell_type": "markdown",
      "metadata": {
        "id": "gKr1x8Sp9So1",
        "colab_type": "text"
      },
      "source": [
        "## 4.1.4 구분하는 능력을 더 강력하게 학습하기 - 메트릭 러닝"
      ]
    },
    {
      "cell_type": "code",
      "metadata": {
        "id": "iR8MGU_x8tIQ",
        "colab_type": "code",
        "colab": {}
      },
      "source": [
        "# 코드 4-4 트리플렛 손실 함수\n",
        "\n",
        "def triplet_loss(y_true, y_pred):\n",
        "  margin = K.constant(1)\n",
        "  return K.mean(K.maximum(K.constant(0), K.square(y_pred[:,0,0]) - 0.5 * (K.square(y_pred[:,1,0]) + K.square(y_pred[:,2,0])) + margin))"
      ],
      "execution_count": 0,
      "outputs": []
    },
    {
      "cell_type": "markdown",
      "metadata": {
        "id": "ixLD207U8s4p",
        "colab_type": "text"
      },
      "source": [
        "## 4.1.5 트리플렛 데이터셋분할하기"
      ]
    },
    {
      "cell_type": "code",
      "metadata": {
        "id": "55OBoLXS-2zT",
        "colab_type": "code",
        "colab": {
          "base_uri": "https://localhost:8080/",
          "height": 127
        },
        "outputId": "e3e1b67b-9ed8-41ed-96e9-b0cf15747a10"
      },
      "source": [
        "from google.colab import drive\n",
        "drive.mount('/content/drive')"
      ],
      "execution_count": 5,
      "outputs": [
        {
          "output_type": "stream",
          "text": [
            "Go to this URL in a browser: https://accounts.google.com/o/oauth2/auth?client_id=947318989803-6bn6qk8qdgf4n4g3pfee6491hc0brc4i.apps.googleusercontent.com&redirect_uri=urn%3aietf%3awg%3aoauth%3a2.0%3aoob&response_type=code&scope=email%20https%3a%2f%2fwww.googleapis.com%2fauth%2fdocs.test%20https%3a%2f%2fwww.googleapis.com%2fauth%2fdrive%20https%3a%2f%2fwww.googleapis.com%2fauth%2fdrive.photos.readonly%20https%3a%2f%2fwww.googleapis.com%2fauth%2fpeopleapi.readonly\n",
            "\n",
            "Enter your authorization code:\n",
            "··········\n",
            "Mounted at /content/drive\n"
          ],
          "name": "stdout"
        }
      ]
    },
    {
      "cell_type": "code",
      "metadata": {
        "id": "AOI6CO7b9krb",
        "colab_type": "code",
        "colab": {}
      },
      "source": [
        "# 코드 4-5 폴더 이름 가져오기 및 정렬\n",
        "\n",
        "import os\n",
        "import glob\n",
        "from shutil import copyfile\n",
        "from random import shuffle\n",
        "\n",
        "folder_list = glob.glob(\"/content/drive/My Drive/colab/oxford-flowers-17/*/\")\n",
        "folder_list.sort()"
      ],
      "execution_count": 0,
      "outputs": []
    },
    {
      "cell_type": "code",
      "metadata": {
        "id": "E1x6FEifE0p9",
        "colab_type": "code",
        "colab": {}
      },
      "source": [
        "# 코드 4-6 이미지 파일 이름 가져오기\n",
        "\n",
        "whole_img_list = glob.glob(\"/content/drive/My Drive/colab/oxford-flowers-17/*/*.jpg\")"
      ],
      "execution_count": 0,
      "outputs": []
    },
    {
      "cell_type": "code",
      "metadata": {
        "id": "xH-GmccxGdU0",
        "colab_type": "code",
        "colab": {
          "base_uri": "https://localhost:8080/",
          "height": 35
        },
        "outputId": "6652d6d4-3784-4324-c2b7-007254c9ac99"
      },
      "source": [
        "# 코드 4-7 앵커 데이터 생성\n",
        "\n",
        "BASE_PATH = \"/content/drive/My Drive/colab/\"\n",
        "\n",
        "if not os.path.exists(BASE_PATH + 'flowers_anchor'):\n",
        "  os.mkdir(BASE_PATH + 'flowers_anchor')\n",
        "if not os.path.exists(BASE_PATH + 'flowers_anchor/images'):\n",
        "  os.mkdir(BASE_PATH + 'flowers_anchor/images')\n",
        "\n",
        "flower_list = []\n",
        "for folder in folder_list:\n",
        "  img_list = glob.glob(folder + \"*.jpg\")\n",
        "  tmp_list = img_list.copy()\n",
        "  flower_list.append(img_list)\n",
        "\n",
        "for i, flower in enumerate(flower_list):\n",
        "  for j, img in enumerate(flower):\n",
        "    copyfile(img, '/'.join(img.split('/')[:5]) + '/flowers_anchor/images/image_' + str(i*len(flower) + j).zfill(4) + '.jpg')\n",
        "\n",
        "positive_list = glob.glob(\"/content/drive/My Drive/colab/flowers_anchor/images/*.jpg\")\n",
        "len(positive_list)"
      ],
      "execution_count": 16,
      "outputs": [
        {
          "output_type": "execute_result",
          "data": {
            "text/plain": [
              "1360"
            ]
          },
          "metadata": {
            "tags": []
          },
          "execution_count": 16
        }
      ]
    },
    {
      "cell_type": "code",
      "metadata": {
        "id": "6q5klC8pO3f8",
        "colab_type": "code",
        "colab": {
          "base_uri": "https://localhost:8080/",
          "height": 35
        },
        "outputId": "21b1680a-df83-4e71-ea65-69ae3b7b8f9f"
      },
      "source": [
        "# 코드 4-8 긍정 데이터 생성\n",
        "\n",
        "def shuffle_not_in_place(input_list):\n",
        "    randomized_list = input_list[:]\n",
        "    while True:\n",
        "        shuffle(randomized_list)\n",
        "        for a, b in zip(input_list, randomized_list):\n",
        "            if a == b:\n",
        "                break\n",
        "        else:\n",
        "            return randomized_list\n",
        "\n",
        "if not os.path.exists(BASE_PATH + 'flowers_positive'):\n",
        "  os.mkdir(BASE_PATH + 'flowers_positive')\n",
        "if not os.path.exists(BASE_PATH + 'flowers_positive/images'):\n",
        "  os.mkdir(BASE_PATH + 'flowers_positive/images')\n",
        "\n",
        "flower_list = []\n",
        "for folder in folder_list:\n",
        "  img_list = glob.glob(folder + \"*.jpg\")\n",
        "  img_list = shuffle_not_in_place(img_list)\n",
        "  flower_list.append(img_list)\n",
        "\n",
        "for i, flower in enumerate(flower_list):\n",
        "  for j, img in enumerate(flower):\n",
        "    copyfile(img, '/'.join(img.split('/')[:5]) + '/flowers_positive/images/image_' + str(i*len(flower) + j).zfill(4) + '.jpg')\n",
        "\n",
        "positive_list = glob.glob(\"/content/drive/My Drive/colab/flowers_positive/images/*.jpg\")\n",
        "len(positive_list)"
      ],
      "execution_count": 17,
      "outputs": [
        {
          "output_type": "execute_result",
          "data": {
            "text/plain": [
              "1360"
            ]
          },
          "metadata": {
            "tags": []
          },
          "execution_count": 17
        }
      ]
    },
    {
      "cell_type": "code",
      "metadata": {
        "id": "wGcBr1GLVQ8O",
        "colab_type": "code",
        "colab": {
          "base_uri": "https://localhost:8080/",
          "height": 35
        },
        "outputId": "38a1778a-47c5-4c23-b0d6-c0343a162b24"
      },
      "source": [
        "# 코드 4-9 부정 데이터 생성\n",
        "\n",
        "folder_names = [folder.split('/')[6] for folder in folder_list]\n",
        "\n",
        "if not os.path.exists(BASE_PATH + 'flowers_negative'):\n",
        "  os.mkdir(BASE_PATH + 'flowers_negative')\n",
        "if not os.path.exists(BASE_PATH + 'flowers_negative/images'):\n",
        "  os.mkdir(BASE_PATH + 'flowers_negative/images')\n",
        "\n",
        "whole_shuffled = whole_img_list.copy()\n",
        "shuffle(whole_shuffled)\n",
        "i=0\n",
        "j=0\n",
        "while j < len(folder_names):\n",
        "  if folder_names[j] == whole_shuffled[i].split('/')[6]:\n",
        "    tmp = whole_shuffled.pop(i)\n",
        "    whole_shuffled.append(tmp)\n",
        "  else:\n",
        "    i+=1\n",
        "    if i%80 == 0:\n",
        "      j+=1\n",
        "\n",
        "for i, img in enumerate(whole_shuffled):\n",
        "  copyfile(img, '/'.join(img.split('/')[:5]) + '/flowers_negative/images/image_' + str(i).zfill(4) + '.jpg')\n",
        "\n",
        "negative = glob.glob(\"/content/drive/My Drive/colab/flowers_negative/images/*.jpg\")\n",
        "len(negative)"
      ],
      "execution_count": 18,
      "outputs": [
        {
          "output_type": "execute_result",
          "data": {
            "text/plain": [
              "1360"
            ]
          },
          "metadata": {
            "tags": []
          },
          "execution_count": 18
        }
      ]
    }
  ]
}