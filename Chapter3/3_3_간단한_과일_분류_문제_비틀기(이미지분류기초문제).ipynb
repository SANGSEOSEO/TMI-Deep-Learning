{
  "nbformat": 4,
  "nbformat_minor": 0,
  "metadata": {
    "colab": {
      "name": "3_3_간단한_과일_분류_문제_비틀기(이미지분류기초문제).ipynb",
      "provenance": [],
      "collapsed_sections": [],
      "toc_visible": true
    },
    "kernelspec": {
      "name": "python3",
      "display_name": "Python 3"
    },
    "accelerator": "GPU"
  },
  "cells": [
    {
      "cell_type": "markdown",
      "metadata": {
        "id": "PtOk6uylElp-",
        "colab_type": "text"
      },
      "source": [
        "# 3.3 간단한 과일 분류 문제 비틀기(이미지 분류 기초 문제)\n",
        "\n",
        "- 작성자: [김찬란](https://github.com/seriousran)"
      ]
    },
    {
      "cell_type": "code",
      "metadata": {
        "id": "272hv_NGQ1rK",
        "colab_type": "code",
        "outputId": "cd9c4a7b-5df7-4e55-8dc1-0574cffd9160",
        "colab": {
          "base_uri": "https://localhost:8080/",
          "height": 192
        }
      },
      "source": [
        "# 코드 3-56 이미지 분류를 위한 임포트 및 구글 드라이브 마운트\n",
        "\n",
        "import keras\n",
        "from keras.preprocessing.image import ImageDataGenerator\n",
        "from keras.models import Model\n",
        "from keras.layers import Dense, Dropout, Activation, Flatten, Input, Conv2D, MaxPooling2D\n",
        "import matplotlib.pyplot as plt\n",
        "\n",
        "from google.colab import drive\n",
        "drive.mount('/content/drive')"
      ],
      "execution_count": 1,
      "outputs": [
        {
          "output_type": "stream",
          "text": [
            "Using TensorFlow backend.\n"
          ],
          "name": "stderr"
        },
        {
          "output_type": "display_data",
          "data": {
            "text/html": [
              "<p style=\"color: red;\">\n",
              "The default version of TensorFlow in Colab will soon switch to TensorFlow 2.x.<br>\n",
              "We recommend you <a href=\"https://www.tensorflow.org/guide/migrate\" target=\"_blank\">upgrade</a> now \n",
              "or ensure your notebook will continue to use TensorFlow 1.x via the <code>%tensorflow_version 1.x</code> magic:\n",
              "<a href=\"https://colab.research.google.com/notebooks/tensorflow_version.ipynb\" target=\"_blank\">more info</a>.</p>\n"
            ],
            "text/plain": [
              "<IPython.core.display.HTML object>"
            ]
          },
          "metadata": {
            "tags": []
          }
        },
        {
          "output_type": "stream",
          "text": [
            "Go to this URL in a browser: https://accounts.google.com/o/oauth2/auth?client_id=947318989803-6bn6qk8qdgf4n4g3pfee6491hc0brc4i.apps.googleusercontent.com&redirect_uri=urn%3aietf%3awg%3aoauth%3a2.0%3aoob&response_type=code&scope=email%20https%3a%2f%2fwww.googleapis.com%2fauth%2fdocs.test%20https%3a%2f%2fwww.googleapis.com%2fauth%2fdrive%20https%3a%2f%2fwww.googleapis.com%2fauth%2fdrive.photos.readonly%20https%3a%2f%2fwww.googleapis.com%2fauth%2fpeopleapi.readonly\n",
            "\n",
            "Enter your authorization code:\n",
            "··········\n",
            "Mounted at /content/drive\n"
          ],
          "name": "stdout"
        }
      ]
    },
    {
      "cell_type": "markdown",
      "metadata": {
        "id": "-jDaCbAdS1Cg",
        "colab_type": "text"
      },
      "source": [
        "## 3.3.1 컨볼루션과 Conv2D 레이어"
      ]
    },
    {
      "cell_type": "code",
      "metadata": {
        "id": "GvLNs-3MFB_8",
        "colab_type": "code",
        "colab": {
          "base_uri": "https://localhost:8080/",
          "height": 71
        },
        "outputId": "7282cacb-4176-4f5e-92d3-8cdf7a725473"
      },
      "source": [
        "# 코드 3-57 Conv2D 레이어\n",
        "\n",
        "Conv2D(64, (3, 3), padding='same', activation='relu')"
      ],
      "execution_count": 2,
      "outputs": [
        {
          "output_type": "stream",
          "text": [
            "WARNING:tensorflow:From /usr/local/lib/python3.6/dist-packages/keras/backend/tensorflow_backend.py:66: The name tf.get_default_graph is deprecated. Please use tf.compat.v1.get_default_graph instead.\n",
            "\n"
          ],
          "name": "stdout"
        },
        {
          "output_type": "execute_result",
          "data": {
            "text/plain": [
              "<keras.layers.convolutional.Conv2D at 0x7ffa37283438>"
            ]
          },
          "metadata": {
            "tags": []
          },
          "execution_count": 2
        }
      ]
    },
    {
      "cell_type": "markdown",
      "metadata": {
        "id": "RWE-rcPoS6ke",
        "colab_type": "text"
      },
      "source": [
        "## 3.3.2 Pooling, DropOut, Flatten 레이어"
      ]
    },
    {
      "cell_type": "code",
      "metadata": {
        "id": "-LMijVWeFB9w",
        "colab_type": "code",
        "colab": {
          "base_uri": "https://localhost:8080/",
          "height": 35
        },
        "outputId": "fd19a414-b37d-4758-e8a8-ca0ea6576f15"
      },
      "source": [
        "# 코드 3-58 MaxPooling2D 레이어\n",
        "\n",
        "MaxPooling2D((2,2))"
      ],
      "execution_count": 3,
      "outputs": [
        {
          "output_type": "execute_result",
          "data": {
            "text/plain": [
              "<keras.layers.pooling.MaxPooling2D at 0x7ffa37283278>"
            ]
          },
          "metadata": {
            "tags": []
          },
          "execution_count": 3
        }
      ]
    },
    {
      "cell_type": "code",
      "metadata": {
        "id": "ND46DkTKFB7X",
        "colab_type": "code",
        "colab": {
          "base_uri": "https://localhost:8080/",
          "height": 35
        },
        "outputId": "4d924993-df89-4f62-eea7-b8afa8dc15bf"
      },
      "source": [
        "# 코드 3-59 Dropout 레이어\n",
        "\n",
        "Dropout(0.25)"
      ],
      "execution_count": 4,
      "outputs": [
        {
          "output_type": "execute_result",
          "data": {
            "text/plain": [
              "<keras.layers.core.Dropout at 0x7ffa37aeeb38>"
            ]
          },
          "metadata": {
            "tags": []
          },
          "execution_count": 4
        }
      ]
    },
    {
      "cell_type": "code",
      "metadata": {
        "id": "6Xe7tW5mFB5J",
        "colab_type": "code",
        "colab": {
          "base_uri": "https://localhost:8080/",
          "height": 35
        },
        "outputId": "398c14cc-d14e-4e5a-8352-00673655531e"
      },
      "source": [
        "# 코드 3-60 Flatten 레이어\n",
        "\n",
        "Flatten()"
      ],
      "execution_count": 5,
      "outputs": [
        {
          "output_type": "execute_result",
          "data": {
            "text/plain": [
              "<keras.layers.core.Flatten at 0x7ffa37aeee80>"
            ]
          },
          "metadata": {
            "tags": []
          },
          "execution_count": 5
        }
      ]
    },
    {
      "cell_type": "markdown",
      "metadata": {
        "id": "zhT9Cd26S_g6",
        "colab_type": "text"
      },
      "source": [
        "## 3.3.3 Dataset Generator"
      ]
    },
    {
      "cell_type": "code",
      "metadata": {
        "id": "eJR_7TkkFB26",
        "colab_type": "code",
        "colab": {
          "base_uri": "https://localhost:8080/",
          "height": 35
        },
        "outputId": "24d00832-2cf4-46f2-d4be-0e0a480b94f9"
      },
      "source": [
        "# 코드 3-61 셀에서 실행하는 ls 명령어\n",
        "\n",
        "!ls \"/content/drive/My Drive/dataset/fruit_1\""
      ],
      "execution_count": 6,
      "outputs": [
        {
          "output_type": "stream",
          "text": [
            "'Apple Braeburn'   Banana\n"
          ],
          "name": "stdout"
        }
      ]
    },
    {
      "cell_type": "code",
      "metadata": {
        "id": "h_sJsoH4FB0d",
        "colab_type": "code",
        "colab": {}
      },
      "source": [
        "# 코드 3-62 이미지 데이터 생성기\n",
        "\n",
        "train_datagen = ImageDataGenerator( \n",
        "    rescale=1./255,\n",
        "    validation_split=0.2\n",
        ") "
      ],
      "execution_count": 0,
      "outputs": []
    },
    {
      "cell_type": "code",
      "metadata": {
        "id": "uqsedeGvUhnj",
        "colab_type": "code",
        "outputId": "22c44359-5935-41cd-a25d-2a7a89269aa2",
        "colab": {
          "base_uri": "https://localhost:8080/",
          "height": 53
        }
      },
      "source": [
        "# 코드 3-63 디렉토리로부터 데이터 가져오는 생성기\n",
        "\n",
        "train_generator = train_datagen.flow_from_directory( \n",
        "    \"/content/drive/My Drive/dataset/fruit_1\",\n",
        "    target_size=(64, 64),\n",
        "    batch_size=32,\n",
        "    class_mode='categorical',\n",
        "    subset='training'\n",
        ")\n",
        "\n",
        "validation_generator = train_datagen.flow_from_directory( \n",
        "    \"/content/drive/My Drive/dataset/fruit_1\",\n",
        "    target_size=(64, 64),\n",
        "    batch_size=32,\n",
        "    class_mode='categorical',\n",
        "    subset='validation'\n",
        ")"
      ],
      "execution_count": 8,
      "outputs": [
        {
          "output_type": "stream",
          "text": [
            "Found 786 images belonging to 2 classes.\n",
            "Found 196 images belonging to 2 classes.\n"
          ],
          "name": "stdout"
        }
      ]
    },
    {
      "cell_type": "code",
      "metadata": {
        "id": "87ZYYntRHz7f",
        "colab_type": "code",
        "colab": {
          "base_uri": "https://localhost:8080/",
          "height": 125
        },
        "outputId": "70c5f563-fa91-4474-976e-a2f797459c1c"
      },
      "source": [
        "# 코드 3-64 one-hot 인코딩\n",
        "\n",
        "from keras.utils import to_categorical\n",
        "import numpy as np\n",
        "data = np.array([0,1,2,1,0])\n",
        "print(data)\n",
        "\n",
        "encoded = to_categorical(data)\n",
        "print(encoded)"
      ],
      "execution_count": 9,
      "outputs": [
        {
          "output_type": "stream",
          "text": [
            "[0 1 2 1 0]\n",
            "[[1. 0. 0.]\n",
            " [0. 1. 0.]\n",
            " [0. 0. 1.]\n",
            " [0. 1. 0.]\n",
            " [1. 0. 0.]]\n"
          ],
          "name": "stdout"
        }
      ]
    },
    {
      "cell_type": "code",
      "metadata": {
        "id": "EGxg0JoaHz40",
        "colab_type": "code",
        "colab": {
          "base_uri": "https://localhost:8080/",
          "height": 35
        },
        "outputId": "6fce7ff1-3272-442f-a018-c24869a31b80"
      },
      "source": [
        "# 코드 3-65 one-hot 디코딩\n",
        "\n",
        "inverted = []\n",
        "for en in encoded:\n",
        "  inverted.append(np.argmax(en))\n",
        "print(inverted)"
      ],
      "execution_count": 10,
      "outputs": [
        {
          "output_type": "stream",
          "text": [
            "[0, 1, 2, 1, 0]\n"
          ],
          "name": "stdout"
        }
      ]
    },
    {
      "cell_type": "markdown",
      "metadata": {
        "id": "f7Ebfm24TEF5",
        "colab_type": "text"
      },
      "source": [
        "# 3.3.4. 기초 분류 모델"
      ]
    },
    {
      "cell_type": "code",
      "metadata": {
        "id": "B6TtjueiVeR9",
        "colab_type": "code",
        "colab": {}
      },
      "source": [
        "# 코드 3-66 이미지 분류 모델 생성 함수\n",
        "\n",
        "def create_model():\n",
        "    inputs = Input(shape=(64, 64, 3))\n",
        "    \n",
        "    conv_1 = Conv2D(64, (3, 3), padding='same', activation='relu')(inputs)\n",
        "    pool_1 = MaxPooling2D((2,2))(conv_1)\n",
        "    conv_2 = Conv2D(32, (3, 3), padding='same', activation='relu')(pool_1)\n",
        "    pool_2 = MaxPooling2D((2,2))(conv_2)\n",
        "    drop_2 = Dropout(0.25)(pool_2)\n",
        "    flat_1 = Flatten()(drop_2)\n",
        "    fc_1 = Dense(16)(flat_1)\n",
        "    \n",
        "    outputs = Dense(2, activation='softmax')(fc_1)\n",
        "    model = Model(inputs=inputs, outputs=outputs)\n",
        "    return model"
      ],
      "execution_count": 0,
      "outputs": []
    },
    {
      "cell_type": "code",
      "metadata": {
        "id": "PbpKgAk1douK",
        "colab_type": "code",
        "outputId": "17348465-7fed-40f5-e88f-a2948b6cbaf4",
        "colab": {
          "base_uri": "https://localhost:8080/",
          "height": 775
        }
      },
      "source": [
        "# 코드 3-67 모델 생성 및 컴파일\n",
        "\n",
        "_model_1 = create_model()\n",
        "_model_1.compile(loss='categorical_crossentropy',\n",
        "              optimizer='adam',\n",
        "              metrics=['accuracy'])\n",
        "_model_1.summary()"
      ],
      "execution_count": 12,
      "outputs": [
        {
          "output_type": "stream",
          "text": [
            "WARNING:tensorflow:From /usr/local/lib/python3.6/dist-packages/keras/backend/tensorflow_backend.py:541: The name tf.placeholder is deprecated. Please use tf.compat.v1.placeholder instead.\n",
            "\n",
            "WARNING:tensorflow:From /usr/local/lib/python3.6/dist-packages/keras/backend/tensorflow_backend.py:4432: The name tf.random_uniform is deprecated. Please use tf.random.uniform instead.\n",
            "\n",
            "WARNING:tensorflow:From /usr/local/lib/python3.6/dist-packages/keras/backend/tensorflow_backend.py:4267: The name tf.nn.max_pool is deprecated. Please use tf.nn.max_pool2d instead.\n",
            "\n",
            "WARNING:tensorflow:From /usr/local/lib/python3.6/dist-packages/keras/backend/tensorflow_backend.py:148: The name tf.placeholder_with_default is deprecated. Please use tf.compat.v1.placeholder_with_default instead.\n",
            "\n",
            "WARNING:tensorflow:From /usr/local/lib/python3.6/dist-packages/keras/backend/tensorflow_backend.py:3733: calling dropout (from tensorflow.python.ops.nn_ops) with keep_prob is deprecated and will be removed in a future version.\n",
            "Instructions for updating:\n",
            "Please use `rate` instead of `keep_prob`. Rate should be set to `rate = 1 - keep_prob`.\n",
            "WARNING:tensorflow:From /usr/local/lib/python3.6/dist-packages/keras/optimizers.py:793: The name tf.train.Optimizer is deprecated. Please use tf.compat.v1.train.Optimizer instead.\n",
            "\n",
            "WARNING:tensorflow:From /usr/local/lib/python3.6/dist-packages/keras/backend/tensorflow_backend.py:3576: The name tf.log is deprecated. Please use tf.math.log instead.\n",
            "\n",
            "Model: \"model_1\"\n",
            "_________________________________________________________________\n",
            "Layer (type)                 Output Shape              Param #   \n",
            "=================================================================\n",
            "input_1 (InputLayer)         (None, 64, 64, 3)         0         \n",
            "_________________________________________________________________\n",
            "conv2d_2 (Conv2D)            (None, 64, 64, 64)        1792      \n",
            "_________________________________________________________________\n",
            "max_pooling2d_2 (MaxPooling2 (None, 32, 32, 64)        0         \n",
            "_________________________________________________________________\n",
            "conv2d_3 (Conv2D)            (None, 32, 32, 32)        18464     \n",
            "_________________________________________________________________\n",
            "max_pooling2d_3 (MaxPooling2 (None, 16, 16, 32)        0         \n",
            "_________________________________________________________________\n",
            "dropout_2 (Dropout)          (None, 16, 16, 32)        0         \n",
            "_________________________________________________________________\n",
            "flatten_2 (Flatten)          (None, 8192)              0         \n",
            "_________________________________________________________________\n",
            "dense_1 (Dense)              (None, 16)                131088    \n",
            "_________________________________________________________________\n",
            "dense_2 (Dense)              (None, 2)                 34        \n",
            "=================================================================\n",
            "Total params: 151,378\n",
            "Trainable params: 151,378\n",
            "Non-trainable params: 0\n",
            "_________________________________________________________________\n"
          ],
          "name": "stdout"
        }
      ]
    },
    {
      "cell_type": "code",
      "metadata": {
        "id": "oENQ_lpjc7UW",
        "colab_type": "code",
        "outputId": "f4f61784-987f-4f09-c6be-1098e8702c41",
        "colab": {
          "base_uri": "https://localhost:8080/",
          "height": 539
        }
      },
      "source": [
        "# 코드 3-68 생성기를 이용한 학습\n",
        "\n",
        "history = _model_1.fit_generator(\n",
        "    train_generator,\n",
        "    epochs=5,\n",
        "    steps_per_epoch=72,\n",
        "    validation_data=validation_generator,\n",
        "    validation_steps=72)"
      ],
      "execution_count": 13,
      "outputs": [
        {
          "output_type": "stream",
          "text": [
            "WARNING:tensorflow:From /tensorflow-1.15.0/python3.6/tensorflow_core/python/ops/math_grad.py:1424: where (from tensorflow.python.ops.array_ops) is deprecated and will be removed in a future version.\n",
            "Instructions for updating:\n",
            "Use tf.where in 2.0, which has the same broadcast rule as np.where\n",
            "WARNING:tensorflow:From /usr/local/lib/python3.6/dist-packages/keras/backend/tensorflow_backend.py:1033: The name tf.assign_add is deprecated. Please use tf.compat.v1.assign_add instead.\n",
            "\n",
            "WARNING:tensorflow:From /usr/local/lib/python3.6/dist-packages/keras/backend/tensorflow_backend.py:1020: The name tf.assign is deprecated. Please use tf.compat.v1.assign instead.\n",
            "\n",
            "WARNING:tensorflow:From /usr/local/lib/python3.6/dist-packages/keras/backend/tensorflow_backend.py:3005: The name tf.Session is deprecated. Please use tf.compat.v1.Session instead.\n",
            "\n",
            "Epoch 1/5\n",
            "WARNING:tensorflow:From /usr/local/lib/python3.6/dist-packages/keras/backend/tensorflow_backend.py:190: The name tf.get_default_session is deprecated. Please use tf.compat.v1.get_default_session instead.\n",
            "\n",
            "WARNING:tensorflow:From /usr/local/lib/python3.6/dist-packages/keras/backend/tensorflow_backend.py:197: The name tf.ConfigProto is deprecated. Please use tf.compat.v1.ConfigProto instead.\n",
            "\n",
            "WARNING:tensorflow:From /usr/local/lib/python3.6/dist-packages/keras/backend/tensorflow_backend.py:207: The name tf.global_variables is deprecated. Please use tf.compat.v1.global_variables instead.\n",
            "\n",
            "WARNING:tensorflow:From /usr/local/lib/python3.6/dist-packages/keras/backend/tensorflow_backend.py:216: The name tf.is_variable_initialized is deprecated. Please use tf.compat.v1.is_variable_initialized instead.\n",
            "\n",
            "WARNING:tensorflow:From /usr/local/lib/python3.6/dist-packages/keras/backend/tensorflow_backend.py:223: The name tf.variables_initializer is deprecated. Please use tf.compat.v1.variables_initializer instead.\n",
            "\n",
            "72/72 [==============================] - 389s 5s/step - loss: 0.0194 - acc: 0.9902 - val_loss: 5.5738e-07 - val_acc: 1.0000\n",
            "Epoch 2/5\n",
            "72/72 [==============================] - 6s 82ms/step - loss: 1.1924e-07 - acc: 1.0000 - val_loss: 5.0249e-07 - val_acc: 1.0000\n",
            "Epoch 3/5\n",
            "72/72 [==============================] - 6s 83ms/step - loss: 1.1921e-07 - acc: 1.0000 - val_loss: 5.1433e-07 - val_acc: 1.0000\n",
            "Epoch 4/5\n",
            "72/72 [==============================] - 6s 80ms/step - loss: 1.1949e-07 - acc: 1.0000 - val_loss: 5.1650e-07 - val_acc: 1.0000\n",
            "Epoch 5/5\n",
            "72/72 [==============================] - 6s 78ms/step - loss: 1.1957e-07 - acc: 1.0000 - val_loss: 5.1577e-07 - val_acc: 1.0000\n"
          ],
          "name": "stdout"
        }
      ]
    },
    {
      "cell_type": "code",
      "metadata": {
        "id": "ZJBJvYSCtAPO",
        "colab_type": "code",
        "outputId": "263e625e-9f25-4b3f-fad1-7b15e9f970f2",
        "colab": {
          "base_uri": "https://localhost:8080/",
          "height": 295
        }
      },
      "source": [
        "# 코드 3-69 학습 히스토리 정확도 그래프 그리기\n",
        "\n",
        "plt.plot(history.history['acc'], '-') \n",
        "plt.plot(history.history['val_acc'], \"-.\")  \n",
        "plt.title('model accuracy')  \n",
        "plt.ylabel('accuracy')  \n",
        "plt.xlabel('epoch')  \n",
        "plt.legend(['train', 'test'], loc='upper left')  \n",
        "plt.show()"
      ],
      "execution_count": 14,
      "outputs": [
        {
          "output_type": "display_data",
          "data": {
            "image/png": "[encoded data removed]",
            "text/plain": [
              "<Figure size 432x288 with 1 Axes>"
            ]
          },
          "metadata": {
            "tags": []
          }
        }
      ]
    },
    {
      "cell_type": "markdown",
      "metadata": {
        "id": "F4fHvLVITI89",
        "colab_type": "text"
      },
      "source": [
        "## 3.3.5 사과, 바나나, 그런데 레몬?"
      ]
    },
    {
      "cell_type": "code",
      "metadata": {
        "id": "fg1vucC-Z3aW",
        "colab_type": "code",
        "outputId": "47100d37-8b37-435f-ab48-16ad2053476e",
        "colab": {
          "base_uri": "https://localhost:8080/",
          "height": 35
        }
      },
      "source": [
        "# 코드 3-70 시험을 위한 생성기\n",
        "\n",
        "test_generator = train_datagen.flow_from_directory( \n",
        "    \"/content/drive/My Drive/dataset/fruit_2/\",\n",
        "    target_size=(64, 64),\n",
        "    batch_size=32,\n",
        "    class_mode=None,\n",
        "    shuffle=False\n",
        ")"
      ],
      "execution_count": 15,
      "outputs": [
        {
          "output_type": "stream",
          "text": [
            "Found 492 images belonging to 1 classes.\n"
          ],
          "name": "stdout"
        }
      ]
    },
    {
      "cell_type": "code",
      "metadata": {
        "id": "KRZCKhsRLTi1",
        "colab_type": "code",
        "colab": {
          "base_uri": "https://localhost:8080/",
          "height": 53
        },
        "outputId": "7e6e62bc-8d70-438f-f0c8-238feccc0e20"
      },
      "source": [
        "# 코드 3-71 학습한 모델과 생성기를 이용한 예측\n",
        "\n",
        "probs = _model_1.predict_generator(test_generator)"
      ],
      "execution_count": 16,
      "outputs": [
        {
          "output_type": "stream",
          "text": [
            "/usr/local/lib/python3.6/dist-packages/keras/utils/data_utils.py:610: UserWarning: The input 1 could not be retrieved. It could be because a worker has died.\n",
            "  UserWarning)\n"
          ],
          "name": "stderr"
        }
      ]
    },
    {
      "cell_type": "code",
      "metadata": {
        "id": "x8TqAnUAXgKl",
        "colab_type": "code",
        "colab": {
          "base_uri": "https://localhost:8080/",
          "height": 269
        },
        "outputId": "1e5e0287-8a99-428b-c5b4-5f3e743d3b9c"
      },
      "source": [
        "# 코드 3-72 최대 예측값의 위치값을 활용하여 예측 결과 획득\n",
        "\n",
        "pred = np.argmax(probs, axis=1)\n",
        "print(pred)"
      ],
      "execution_count": 17,
      "outputs": [
        {
          "output_type": "stream",
          "text": [
            "[1 1 1 1 1 1 1 1 1 1 1 1 1 1 1 1 1 1 1 1 1 1 1 1 1 1 1 1 1 1 1 1 1 1 1 1 1\n",
            " 1 1 1 1 1 1 1 1 1 1 1 1 1 1 1 1 1 1 1 1 1 1 1 1 1 1 1 1 1 1 1 1 1 1 1 1 1\n",
            " 1 1 1 1 1 1 1 1 1 1 1 1 1 1 1 1 1 1 1 1 1 1 1 1 1 1 1 1 1 1 1 1 1 1 1 1 1\n",
            " 1 1 1 1 1 1 1 1 1 1 1 1 1 1 1 1 1 1 1 1 1 1 1 1 1 1 1 1 1 1 1 1 1 1 1 1 1\n",
            " 1 1 1 1 1 1 1 1 1 1 1 1 1 1 1 1 1 1 1 1 1 1 1 1 1 1 1 1 1 1 1 1 1 1 1 1 1\n",
            " 1 1 1 1 1 1 1 1 1 1 1 1 1 1 1 1 1 1 1 1 1 1 1 1 1 1 1 1 1 1 1 1 1 1 1 1 1\n",
            " 1 1 1 1 1 1 1 1 1 1 1 1 1 1 1 1 1 1 1 1 1 1 1 1 1 0 0 0 0 0 0 0 0 0 0 0 0\n",
            " 0 0 0 0 0 0 0 0 0 0 0 0 0 0 0 0 0 0 0 0 0 0 0 0 0 0 0 0 0 0 0 0 0 0 0 0 0\n",
            " 0 0 0 0 0 0 0 1 0 0 1 1 1 1 1 1 1 1 1 1 1 1 1 1 1 1 1 1 1 1 1 1 1 1 1 1 1\n",
            " 0 0 0 0 0 0 0 0 0 0 0 0 0 0 0 0 0 0 0 0 0 0 0 0 0 0 0 0 0 0 0 0 0 0 0 0 0\n",
            " 0 0 0 0 0 0 0 0 0 0 0 0 0 0 0 0 0 0 0 0 0 0 0 0 0 0 0 0 0 0 0 0 0 0 0 0 0\n",
            " 0 0 0 0 0 0 0 0 0 0 0 0 0 0 0 1 1 1 1 1 1 1 1 1 1 1 1 1 1 1 1 1 1 1 1 0 0\n",
            " 0 0 0 0 0 0 0 0 0 0 0 0 0 0 0 0 0 0 0 0 0 0 0 0 0 0 0 0 0 0 0 0 0 0 0 0 0\n",
            " 0 0 0 0 0 0 0 0 0 0 0]\n"
          ],
          "name": "stdout"
        }
      ]
    },
    {
      "cell_type": "markdown",
      "metadata": {
        "id": "xzJgwiWITO07",
        "colab_type": "text"
      },
      "source": [
        "## 3.3.6 학습, 검증, 그리고 시험"
      ]
    },
    {
      "cell_type": "code",
      "metadata": {
        "id": "TthBM5WeLkMF",
        "colab_type": "code",
        "colab": {}
      },
      "source": [
        "# 코드 7-73 이른 종결\n",
        "\n",
        "from keras.callbacks import EarlyStopping\n",
        "es = EarlyStopping(monitor='val_loss', mode='min', patience=3)"
      ],
      "execution_count": 0,
      "outputs": []
    },
    {
      "cell_type": "markdown",
      "metadata": {
        "id": "FyHWc8rZTR1Q",
        "colab_type": "text"
      },
      "source": [
        "## 3.3.7 모델 저장하고 불러오기"
      ]
    },
    {
      "cell_type": "code",
      "metadata": {
        "id": "qqFZvelKjfhL",
        "colab_type": "code",
        "colab": {}
      },
      "source": [
        "# 코드 7-74 모델 저장하기\n",
        "\n",
        "_model_1.save(\"model.h5\")"
      ],
      "execution_count": 0,
      "outputs": []
    },
    {
      "cell_type": "code",
      "metadata": {
        "id": "GoYpLJdz4Fwl",
        "colab_type": "code",
        "colab": {
          "base_uri": "https://localhost:8080/",
          "height": 485
        },
        "outputId": "71b037fb-244b-4f33-a946-29c95163a4e0"
      },
      "source": [
        "# 코드 7-75 모델 불러오기\n",
        "\n",
        "from keras.models import load_model\n",
        "\n",
        "_model_2 = load_model('model.h5')\n",
        "_model_2.summary()"
      ],
      "execution_count": 20,
      "outputs": [
        {
          "output_type": "stream",
          "text": [
            "Model: \"model_1\"\n",
            "_________________________________________________________________\n",
            "Layer (type)                 Output Shape              Param #   \n",
            "=================================================================\n",
            "input_1 (InputLayer)         (None, 64, 64, 3)         0         \n",
            "_________________________________________________________________\n",
            "conv2d_2 (Conv2D)            (None, 64, 64, 64)        1792      \n",
            "_________________________________________________________________\n",
            "max_pooling2d_2 (MaxPooling2 (None, 32, 32, 64)        0         \n",
            "_________________________________________________________________\n",
            "conv2d_3 (Conv2D)            (None, 32, 32, 32)        18464     \n",
            "_________________________________________________________________\n",
            "max_pooling2d_3 (MaxPooling2 (None, 16, 16, 32)        0         \n",
            "_________________________________________________________________\n",
            "dropout_2 (Dropout)          (None, 16, 16, 32)        0         \n",
            "_________________________________________________________________\n",
            "flatten_2 (Flatten)          (None, 8192)              0         \n",
            "_________________________________________________________________\n",
            "dense_1 (Dense)              (None, 16)                131088    \n",
            "_________________________________________________________________\n",
            "dense_2 (Dense)              (None, 2)                 34        \n",
            "=================================================================\n",
            "Total params: 151,378\n",
            "Trainable params: 151,378\n",
            "Non-trainable params: 0\n",
            "_________________________________________________________________\n"
          ],
          "name": "stdout"
        }
      ]
    }
  ]
}