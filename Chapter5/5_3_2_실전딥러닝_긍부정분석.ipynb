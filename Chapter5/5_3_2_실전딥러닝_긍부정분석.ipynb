{
  "nbformat": 4,
  "nbformat_minor": 0,
  "metadata": {
    "colab": {
      "name": "5_3_2_실전딥러닝_긍부정분석.ipynb",
      "provenance": [],
      "collapsed_sections": [],
      "machine_shape": "hm"
    },
    "kernelspec": {
      "name": "python3",
      "display_name": "Python 3"
    },
    "accelerator": "GPU"
  },
  "cells": [
    {
      "cell_type": "markdown",
      "metadata": {
        "id": "GMG5r1LJEqXm",
        "colab_type": "text"
      },
      "source": [
        "# 5.3.4 텐서플로 2.0과 케라스를 이용한 영화 리뷰 긍부정(감정) 분석\n",
        "\n",
        "- 작성자: [김찬란](https://github.com/seriousran)"
      ]
    },
    {
      "cell_type": "code",
      "metadata": {
        "id": "G6aw0MJp7Ojw",
        "colab_type": "code",
        "outputId": "04c0e021-73ef-4f89-c0fc-fc6f01f8c238",
        "colab": {
          "base_uri": "https://localhost:8080/",
          "height": 442
        }
      },
      "source": [
        "# 코드 5-19 패키지 설치 및 데이터셋 다운로드\n",
        "\n",
        "!git clone https://github.com/kpe/bert-for-tf2.git\n",
        "!pip install -r bert-for-tf2/requirements.txt\n",
        "!pip install sentencepiece\n",
        "\n",
        "!git clone https://github.com/e9t/nsmc\n",
        "!wget https://storage.googleapis.com/bert_models/2018_11_23/multi_cased_L-12_H-768_A-12.zip\n",
        "!unzip multi_cased_L-12_H-768_A-12.zip\n",
        "#!pip install ujson\n",
        "\n",
        "import sys\n",
        "import pandas as pd\n",
        "import numpy as np\n",
        "import random\n",
        "import matplotlib.pyplot as plt\n",
        "\n",
        "sys.path.append(\"bert-for-tf2/\")\n",
        "\n",
        "import tensorflow as tf\n",
        "import keras\n",
        "\n",
        "import bert\n",
        "from bert.model import BertModelLayer\n",
        "from bert.loader import params_from_pretrained_ckpt, load_stock_weights\n",
        "from bert.tokenization.bert_tokenization import FullTokenizer"
      ],
      "execution_count": 0,
      "outputs": [
        {
          "output_type": "stream",
          "text": [
            "fatal: destination path 'bert-for-tf2' already exists and is not an empty directory.\n",
            "Requirement already satisfied: py-params>=0.7.3 in /usr/local/lib/python3.6/dist-packages (from -r bert-for-tf2/requirements.txt (line 4)) (0.8.2)\n",
            "Requirement already satisfied: params-flow>=0.7.1 in /usr/local/lib/python3.6/dist-packages (from -r bert-for-tf2/requirements.txt (line 5)) (0.7.4)\n",
            "Requirement already satisfied: tqdm in /usr/local/lib/python3.6/dist-packages (from params-flow>=0.7.1->-r bert-for-tf2/requirements.txt (line 5)) (4.28.1)\n",
            "Requirement already satisfied: numpy in /usr/local/lib/python3.6/dist-packages (from params-flow>=0.7.1->-r bert-for-tf2/requirements.txt (line 5)) (1.17.5)\n",
            "Requirement already satisfied: sentencepiece in /usr/local/lib/python3.6/dist-packages (0.1.85)\n",
            "fatal: destination path 'nsmc' already exists and is not an empty directory.\n",
            "--2020-02-07 00:56:04--  https://storage.googleapis.com/bert_models/2018_11_23/multi_cased_L-12_H-768_A-12.zip\n",
            "Resolving storage.googleapis.com (storage.googleapis.com)... 74.125.195.128, 2607:f8b0:400e:c07::80\n",
            "Connecting to storage.googleapis.com (storage.googleapis.com)|74.125.195.128|:443... connected.\n",
            "HTTP request sent, awaiting response... 200 OK\n",
            "Length: 662903077 (632M) [application/zip]\n",
            "Saving to: ‘multi_cased_L-12_H-768_A-12.zip.1’\n",
            "\n",
            "multi_cased_L-12_H- 100%[===================>] 632.19M  47.6MB/s    in 13s     \n",
            "\n",
            "2020-02-07 00:56:17 (50.3 MB/s) - ‘multi_cased_L-12_H-768_A-12.zip.1’ saved [662903077/662903077]\n",
            "\n",
            "Archive:  multi_cased_L-12_H-768_A-12.zip\n",
            "replace multi_cased_L-12_H-768_A-12/bert_model.ckpt.meta? [y]es, [n]o, [A]ll, [N]one, [r]ename: N\n"
          ],
          "name": "stdout"
        },
        {
          "output_type": "display_data",
          "data": {
            "text/html": [
              "<p style=\"color: red;\">\n",
              "The default version of TensorFlow in Colab will soon switch to TensorFlow 2.x.<br>\n",
              "We recommend you <a href=\"https://www.tensorflow.org/guide/migrate\" target=\"_blank\">upgrade</a> now \n",
              "or ensure your notebook will continue to use TensorFlow 1.x via the <code>%tensorflow_version 1.x</code> magic:\n",
              "<a href=\"https://colab.research.google.com/notebooks/tensorflow_version.ipynb\" target=\"_blank\">more info</a>.</p>\n"
            ],
            "text/plain": [
              "<IPython.core.display.HTML object>"
            ]
          },
          "metadata": {
            "tags": []
          }
        },
        {
          "output_type": "stream",
          "text": [
            "Using TensorFlow backend.\n"
          ],
          "name": "stderr"
        }
      ]
    },
    {
      "cell_type": "code",
      "metadata": {
        "id": "GIo6OQ_B_v0A",
        "colab_type": "code",
        "outputId": "be65d7d2-f73e-4351-bdf6-60287b491b67",
        "colab": {
          "base_uri": "https://localhost:8080/",
          "height": 204
        }
      },
      "source": [
        "df_train = pd.read_csv(\"nsmc/ratings_train.txt\", sep='\\t', nrows=10000)\n",
        "df_test = pd.read_csv(\"nsmc/ratings_test.txt\", sep='\\t', nrows=10000)\n",
        "df_train.head()"
      ],
      "execution_count": 0,
      "outputs": [
        {
          "output_type": "execute_result",
          "data": {
            "text/html": [
              "<div>\n",
              "<style scoped>\n",
              "    .dataframe tbody tr th:only-of-type {\n",
              "        vertical-align: middle;\n",
              "    }\n",
              "\n",
              "    .dataframe tbody tr th {\n",
              "        vertical-align: top;\n",
              "    }\n",
              "\n",
              "    .dataframe thead th {\n",
              "        text-align: right;\n",
              "    }\n",
              "</style>\n",
              "<table border=\"1\" class=\"dataframe\">\n",
              "  <thead>\n",
              "    <tr style=\"text-align: right;\">\n",
              "      <th></th>\n",
              "      <th>id</th>\n",
              "      <th>document</th>\n",
              "      <th>label</th>\n",
              "    </tr>\n",
              "  </thead>\n",
              "  <tbody>\n",
              "    <tr>\n",
              "      <th>0</th>\n",
              "      <td>9976970</td>\n",
              "      <td>아 더빙.. 진짜 짜증나네요 목소리</td>\n",
              "      <td>0</td>\n",
              "    </tr>\n",
              "    <tr>\n",
              "      <th>1</th>\n",
              "      <td>3819312</td>\n",
              "      <td>흠...포스터보고 초딩영화줄....오버연기조차 가볍지 않구나</td>\n",
              "      <td>1</td>\n",
              "    </tr>\n",
              "    <tr>\n",
              "      <th>2</th>\n",
              "      <td>10265843</td>\n",
              "      <td>너무재밓었다그래서보는것을추천한다</td>\n",
              "      <td>0</td>\n",
              "    </tr>\n",
              "    <tr>\n",
              "      <th>3</th>\n",
              "      <td>9045019</td>\n",
              "      <td>교도소 이야기구먼 ..솔직히 재미는 없다..평점 조정</td>\n",
              "      <td>0</td>\n",
              "    </tr>\n",
              "    <tr>\n",
              "      <th>4</th>\n",
              "      <td>6483659</td>\n",
              "      <td>사이몬페그의 익살스런 연기가 돋보였던 영화!스파이더맨에서 늙어보이기만 했던 커스틴 ...</td>\n",
              "      <td>1</td>\n",
              "    </tr>\n",
              "  </tbody>\n",
              "</table>\n",
              "</div>"
            ],
            "text/plain": [
              "         id                                           document  label\n",
              "0   9976970                                아 더빙.. 진짜 짜증나네요 목소리      0\n",
              "1   3819312                  흠...포스터보고 초딩영화줄....오버연기조차 가볍지 않구나      1\n",
              "2  10265843                                  너무재밓었다그래서보는것을추천한다      0\n",
              "3   9045019                      교도소 이야기구먼 ..솔직히 재미는 없다..평점 조정      0\n",
              "4   6483659  사이몬페그의 익살스런 연기가 돋보였던 영화!스파이더맨에서 늙어보이기만 했던 커스틴 ...      1"
            ]
          },
          "metadata": {
            "tags": []
          },
          "execution_count": 3
        }
      ]
    },
    {
      "cell_type": "code",
      "metadata": {
        "id": "AwDF2m91Aqpm",
        "colab_type": "code",
        "colab": {}
      },
      "source": [
        "# 코드 5-20 데이터셋 임의 순열\n",
        "\n",
        "data_train = df_train[['label', 'document']].values\n",
        "data_test = df_test[['label', 'document']].values\n",
        "\n",
        "shuffled_train = random.sample(list(data_train), len(data_train))\n",
        "training_set = shuffled_train\n",
        "shuffled_test = random.sample(list(data_test), len(data_test))\n",
        "testing_set = shuffled_test\n",
        "\n",
        "SEQ_LEN = 256\n",
        "CLASS = 2"
      ],
      "execution_count": 0,
      "outputs": []
    },
    {
      "cell_type": "code",
      "metadata": {
        "id": "u_i7-xcA7wAe",
        "colab_type": "code",
        "colab": {}
      },
      "source": [
        "# 코드 5-21 BERT를 위한 토크나이징\n",
        "\n",
        "tokenizer = FullTokenizer('multi_cased_L-12_H-768_A-12/vocab.txt', do_lower_case=False)\n",
        "\n",
        "train_tokens = []\n",
        "for row in training_set:\n",
        "  train_tokens.append( [\"[CLS]\"] + tokenizer.tokenize(str(row[1])) + [\"[SEP]\"] )\n",
        "\n",
        "train_token_ids = list(map(tokenizer.convert_tokens_to_ids, train_tokens))\n",
        "train_token_ids = map(lambda tids: tids + [0] * (SEQ_LEN - len(tids)), train_token_ids)\n",
        "train_token_ids = np.array([np.array(xi) for xi in list(train_token_ids)])\n",
        "\n",
        "test_tokens = []\n",
        "for row in testing_set:\n",
        "  test_tokens.append( [\"[CLS]\"] + tokenizer.tokenize(str(row[1])) + [\"[SEP]\"] )\n",
        "\n",
        "test_token_ids = list(map(tokenizer.convert_tokens_to_ids, test_tokens))\n",
        "test_token_ids = map(lambda tids: tids + [0] * (SEQ_LEN - len(tids)), test_token_ids)\n",
        "test_token_ids = np.array([np.array(xi) for xi in list(test_token_ids)])\n",
        "\n",
        "x_train = train_token_ids\n",
        "y_train = np.array(training_set)[:,0]\n",
        "x_test = test_token_ids\n",
        "y_test =  np.array(testing_set)[:,0]"
      ],
      "execution_count": 0,
      "outputs": []
    },
    {
      "cell_type": "code",
      "metadata": {
        "id": "Z253nRx1Btkl",
        "colab_type": "code",
        "outputId": "bfbaeff2-3a9b-49ca-d849-bd84721de8c0",
        "colab": {
          "base_uri": "https://localhost:8080/",
          "height": 865
        }
      },
      "source": [
        "# 5-22 BERT 기반의 분류 모델 생성\n",
        "\n",
        "from tensorflow.keras.layers import Input, Flatten, Dense, Dropout, Lambda\n",
        "from tensorflow.keras.models import Model\n",
        "from tensorflow.keras.optimizers import Adam\n",
        "\n",
        "bert_params = params_from_pretrained_ckpt(\"multi_cased_L-12_H-768_A-12\")\n",
        "bert_layer = BertModelLayer.from_params(bert_params, name=\"bert\")\n",
        "bert_layer.apply_adapter_freeze()\n",
        "\n",
        "def create_model(max_seq_length, classes):\n",
        "  inputs = Input(shape=(max_seq_length,), dtype='int32', name='input_ids')\n",
        "  bert = bert_layer(inputs)\n",
        "  cls_out = Lambda(lambda seq: seq[:, 0, :])(bert)\n",
        "  dr_1 = Dropout(0.3)(cls_out)\n",
        "  fc_1 = Dense(256, activation=tf.nn.relu)(dr_1)\n",
        "  dr_2 = Dropout(0.3)(fc_1)\n",
        "  outputs = Dense(classes, activation='softmax')(dr_2)\n",
        "\n",
        "  model = Model(inputs, outputs)\n",
        "\n",
        "  return model\n",
        "\n",
        "model = create_model(SEQ_LEN, CLASS)\n",
        "model.build(input_shape=(None, SEQ_LEN))\n",
        "\n",
        "load_stock_weights(bert_layer, \"multi_cased_L-12_H-768_A-12/bert_model.ckpt\")\n",
        "\n",
        "def flatten_layers(root_layer):\n",
        "    if isinstance(root_layer, keras.layers.Layer):\n",
        "        yield root_layer\n",
        "    for layer in root_layer._layers:\n",
        "        for sub_layer in flatten_layers(layer):\n",
        "            yield sub_layer\n",
        "\n",
        "for layer in flatten_layers(bert_layer):\n",
        "        if layer.name in [\"LayerNorm\", \"adapter-down\", \"adapter-up\"]:\n",
        "            layer.trainable = True\n",
        "        else:\n",
        "            layer.trainable = False\n",
        "\n",
        "bert_layer.embeddings_layer.trainable = False\n",
        "\n",
        "model.compile(loss='sparse_categorical_crossentropy', optimizer=Adam(lr=0.00001), metrics=['accuracy'])\n",
        "\n",
        "print(model.summary())"
      ],
      "execution_count": 0,
      "outputs": [
        {
          "output_type": "stream",
          "text": [
            "WARNING:tensorflow:From /usr/local/lib/python3.6/dist-packages/tensorflow_core/python/keras/initializers.py:119: calling RandomUniform.__init__ (from tensorflow.python.ops.init_ops) with dtype is deprecated and will be removed in a future version.\n",
            "Instructions for updating:\n",
            "Call initializer instance with the dtype argument instead of passing it to the constructor\n",
            "WARNING:tensorflow:From /usr/local/lib/python3.6/dist-packages/tensorflow_core/python/ops/resource_variable_ops.py:1630: calling BaseResourceVariable.__init__ (from tensorflow.python.ops.resource_variable_ops) with constraint is deprecated and will be removed in a future version.\n",
            "Instructions for updating:\n",
            "If using Keras pass *_constraint arguments to layers.\n",
            "WARNING:tensorflow:From bert-for-tf2/bert/layer.py:20: The name tf.keras.initializers.TruncatedNormal is deprecated. Please use tf.compat.v1.keras.initializers.TruncatedNormal instead.\n",
            "\n",
            "WARNING:tensorflow:From /usr/local/lib/python3.6/dist-packages/tensorflow_core/python/keras/initializers.py:94: calling TruncatedNormal.__init__ (from tensorflow.python.ops.init_ops) with dtype is deprecated and will be removed in a future version.\n",
            "Instructions for updating:\n",
            "Call initializer instance with the dtype argument instead of passing it to the constructor\n",
            "Done loading 196 BERT weights from: multi_cased_L-12_H-768_A-12/bert_model.ckpt into <bert.model.BertModelLayer object at 0x7fd45ad61b70> (prefix:bert). Count of weights not found in the checkpoint was: [0]. Count of weights with mismatched shape: [0]\n",
            "Unused weights from checkpoint: \n",
            "\tbert/embeddings/token_type_embeddings\n",
            "\tbert/pooler/dense/bias\n",
            "\tbert/pooler/dense/kernel\n",
            "\tcls/predictions/output_bias\n",
            "\tcls/predictions/transform/LayerNorm/beta\n",
            "\tcls/predictions/transform/LayerNorm/gamma\n",
            "\tcls/predictions/transform/dense/bias\n",
            "\tcls/predictions/transform/dense/kernel\n",
            "\tcls/seq_relationship/output_bias\n",
            "\tcls/seq_relationship/output_weights\n",
            "Model: \"model\"\n",
            "_________________________________________________________________\n",
            "Layer (type)                 Output Shape              Param #   \n",
            "=================================================================\n",
            "input_ids (InputLayer)       [(None, 256)]             0         \n",
            "_________________________________________________________________\n",
            "bert (BertModelLayer)        (None, 256, 768)          177261312 \n",
            "_________________________________________________________________\n",
            "lambda (Lambda)              (None, 768)               0         \n",
            "_________________________________________________________________\n",
            "dropout_37 (Dropout)         (None, 768)               0         \n",
            "_________________________________________________________________\n",
            "dense (Dense)                (None, 256)               196864    \n",
            "_________________________________________________________________\n",
            "dropout_38 (Dropout)         (None, 256)               0         \n",
            "_________________________________________________________________\n",
            "dense_1 (Dense)              (None, 2)                 514       \n",
            "=================================================================\n",
            "Total params: 177,458,690\n",
            "Trainable params: 85,251,842\n",
            "Non-trainable params: 92,206,848\n",
            "_________________________________________________________________\n",
            "None\n"
          ],
          "name": "stdout"
        }
      ]
    },
    {
      "cell_type": "code",
      "metadata": {
        "id": "t-AsBEa6CK0u",
        "colab_type": "code",
        "outputId": "bda0fd09-0501-441a-ee34-9bef8d445e75",
        "colab": {
          "base_uri": "https://localhost:8080/",
          "height": 377
        }
      },
      "source": [
        "# 코드 5-23 콜백을 활용한 모델 학습\n",
        "\n",
        "checkpointName = \"bert_fine-tuning.ckpt\"\n",
        "\n",
        "cp_callback = tf.keras.callbacks.ModelCheckpoint(filepath=checkpointName,\n",
        "                                                  save_weights_only=True,\n",
        "                                                  verbose=1)\n",
        "\n",
        "history = model.fit(x_train, y_train, \n",
        "                    epochs=4, batch_size=16,\n",
        "                    validation_data=(x_test, y_test),\n",
        "                    verbose=1, callbacks=[cp_callback]\n",
        ")"
      ],
      "execution_count": 0,
      "outputs": [
        {
          "output_type": "stream",
          "text": [
            "WARNING:tensorflow:From /usr/local/lib/python3.6/dist-packages/tensorflow_core/python/ops/math_grad.py:1375: where (from tensorflow.python.ops.array_ops) is deprecated and will be removed in a future version.\n",
            "Instructions for updating:\n",
            "Use tf.where in 2.0, which has the same broadcast rule as np.where\n",
            "Train on 10000 samples, validate on 10000 samples\n",
            "Epoch 1/4\n",
            " 9984/10000 [============================>.] - ETA: 0s - loss: 0.6464 - acc: 0.6074\n",
            "Epoch 00001: saving model to bert_fine-tuning.ckpt\n",
            "10000/10000 [==============================] - 456s 46ms/sample - loss: 0.6462 - acc: 0.6075 - val_loss: 0.5222 - val_acc: 0.7364\n",
            "Epoch 2/4\n",
            " 9984/10000 [============================>.] - ETA: 0s - loss: 0.4732 - acc: 0.7785\n",
            "Epoch 00002: saving model to bert_fine-tuning.ckpt\n",
            "10000/10000 [==============================] - 448s 45ms/sample - loss: 0.4737 - acc: 0.7784 - val_loss: 0.4378 - val_acc: 0.7904\n",
            "Epoch 3/4\n",
            " 9984/10000 [============================>.] - ETA: 0s - loss: 0.3692 - acc: 0.8375\n",
            "Epoch 00003: saving model to bert_fine-tuning.ckpt\n",
            "10000/10000 [==============================] - 448s 45ms/sample - loss: 0.3689 - acc: 0.8375 - val_loss: 0.4333 - val_acc: 0.8030\n",
            "Epoch 4/4\n",
            " 9984/10000 [============================>.] - ETA: 0s - loss: 0.2983 - acc: 0.8743\n",
            "Epoch 00004: saving model to bert_fine-tuning.ckpt\n",
            "10000/10000 [==============================] - 448s 45ms/sample - loss: 0.2983 - acc: 0.8743 - val_loss: 0.4350 - val_acc: 0.7992\n"
          ],
          "name": "stdout"
        }
      ]
    },
    {
      "cell_type": "code",
      "metadata": {
        "id": "hL8PCXS30tgP",
        "colab_type": "code",
        "outputId": "78792e2d-00da-414d-becd-e1a2dce0355f",
        "colab": {
          "base_uri": "https://localhost:8080/",
          "height": 404
        }
      },
      "source": [
        "# 코드 5-24 결과 그래프 그리기 \n",
        "\n",
        "plt.figure(figsize=(9,6))\n",
        "plt.plot(history.history['loss'], '-', linewidth=2)\n",
        "plt.plot(history.history['val_loss'], '-.', linewidth=2)\n",
        "plt.title('model loss')\n",
        "plt.ylabel('loss')\n",
        "plt.xlabel('epoch')\n",
        "plt.legend(['train', 'test'], loc='upper left')\n",
        "plt.show()"
      ],
      "execution_count": 0,
      "outputs": [
        {
          "output_type": "display_data",
          "data": {
            "image/png": "[encoded data removed]",
            "text/plain": [
              "<Figure size 648x432 with 1 Axes>"
            ]
          },
          "metadata": {
            "tags": []
          }
        }
      ]
    },
    {
      "cell_type": "code",
      "metadata": {
        "id": "hAcgG2K70t5v",
        "colab_type": "code",
        "outputId": "b3a7b291-2822-4a21-e889-c4ff3a42ad63",
        "colab": {
          "base_uri": "https://localhost:8080/",
          "height": 404
        }
      },
      "source": [
        "plt.figure(figsize=(9,6))\n",
        "plt.plot(history.history['acc'], '-', linewidth=2)\n",
        "plt.plot(history.history['val_acc'], '-.', linewidth=2)\n",
        "plt.title('model accuracy')\n",
        "plt.ylabel('accuracy')\n",
        "plt.xlabel('epoch')\n",
        "plt.legend(['train', 'test'], loc='upper left')\n",
        "plt.show()"
      ],
      "execution_count": 0,
      "outputs": [
        {
          "output_type": "display_data",
          "data": {
            "image/png": "[encoded data removed]",
            "text/plain": [
              "<Figure size 648x432 with 1 Axes>"
            ]
          },
          "metadata": {
            "tags": []
          }
        }
      ]
    }
  ]
}